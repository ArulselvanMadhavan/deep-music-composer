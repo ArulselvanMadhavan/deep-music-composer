{
 "cells": [
  {
   "cell_type": "code",
   "execution_count": 10,
   "metadata": {
    "collapsed": true
   },
   "outputs": [],
   "source": [
    "import numpy as np\n",
    "%load_ext autoreload\n",
    "%autoreload 2"
   ]
  },
  {
   "cell_type": "code",
   "execution_count": 171,
   "metadata": {
    "collapsed": true
   },
   "outputs": [],
   "source": [
    "train_data_path = \"./playData/chords/\""
   ]
  },
  {
   "cell_type": "code",
   "execution_count": 187,
   "metadata": {
    "collapsed": false
   },
   "outputs": [],
   "source": [
    "from PianoRoll import PianoRoll"
   ]
  },
  {
   "cell_type": "code",
   "execution_count": 173,
   "metadata": {
    "collapsed": false
   },
   "outputs": [],
   "source": [
    "train_obj = PianoRoll(train_data_path, res_factor=24)"
   ]
  },
  {
   "cell_type": "code",
   "execution_count": 174,
   "metadata": {
    "collapsed": false
   },
   "outputs": [
    {
     "name": "stdout",
     "output_type": "stream",
     "text": [
      "(128, 59, 48)\n"
     ]
    }
   ],
   "source": [
    "print(train_obj.ticks, train_obj.max_note, train_obj.min_note)"
   ]
  },
  {
   "cell_type": "code",
   "execution_count": 192,
   "metadata": {
    "collapsed": false
   },
   "outputs": [],
   "source": [
    "#Note On OFF Array Test - Shape\n",
    "from mido import MidiFile\n",
    "configs = {\n",
    "            \"res_factor\":train_obj.res_factor,\n",
    "            \"max_note\": train_obj.max_note,\n",
    "            \"min_note\": train_obj.min_note\n",
    "        }\n",
    "x = PianoRoll.get_note_info(train_obj.files[0], configs)\n",
    "y = PianoRoll.getNoteTimeOnOffArray(MidiFile(train_obj.files[0]), train_obj.res_factor)\n",
    "y = np.array(y)\n",
    "np.testing.assert_almost_equal(x, y)"
   ]
  },
  {
   "cell_type": "code",
   "execution_count": 205,
   "metadata": {
    "collapsed": false
   },
   "outputs": [
    {
     "name": "stdout",
     "output_type": "stream",
     "text": [
      "48\t6\tTrue\n",
      "49\t0\tTrue\n",
      "50\t10\tTrue\n",
      "51\t0\tTrue\n",
      "52\t6\tTrue\n",
      "53\t0\tTrue\n",
      "54\t0\tTrue\n",
      "55\t16\tTrue\n",
      "56\t0\tTrue\n",
      "57\t0\tTrue\n",
      "58\t0\tTrue\n",
      "59\t10\tTrue\n"
     ]
    }
   ],
   "source": [
    "notes = x.T[0]\n",
    "for i in range(train_obj.min_note, train_obj.max_note + 1):\n",
    "    print(\"{}\\t{}\\t{}\".format(i, (notes == i).sum(), ((notes == i).sum() % 2) == 0))"
   ]
  },
  {
   "cell_type": "code",
   "execution_count": 117,
   "metadata": {
    "collapsed": false
   },
   "outputs": [
    {
     "data": {
      "text/plain": [
       "(2, 3)"
      ]
     },
     "execution_count": 117,
     "metadata": {},
     "output_type": "execute_result"
    }
   ],
   "source": [
    "c = [np.array([1,2,3]), np.array([4,5,6])]\n",
    "np.vstack(c).shape"
   ]
  },
  {
   "cell_type": "code",
   "execution_count": 213,
   "metadata": {
    "collapsed": false
   },
   "outputs": [
    {
     "name": "stdout",
     "output_type": "stream",
     "text": [
      "(array([[ 50,   0,  16],\n",
      "       [ 55,   0,  16],\n",
      "       [ 59,   0,  16],\n",
      "       [ 48,  16,  16],\n",
      "       [ 52,  16,  16],\n",
      "       [ 55,  16,  16],\n",
      "       [ 50,  32,  16],\n",
      "       [ 55,  32,  16],\n",
      "       [ 59,  32,  16],\n",
      "       [ 48,  48,  16],\n",
      "       [ 52,  48,  16],\n",
      "       [ 55,  48,  16],\n",
      "       [ 50,  64,  16],\n",
      "       [ 55,  64,  16],\n",
      "       [ 59,  64,  16],\n",
      "       [ 48,  80,  16],\n",
      "       [ 52,  80,  16],\n",
      "       [ 55,  80,  16],\n",
      "       [ 50,  96,  16],\n",
      "       [ 55,  96,  16],\n",
      "       [ 59,  96,  16],\n",
      "       [ 50, 112,  16],\n",
      "       [ 55, 112,  16],\n",
      "       [ 59, 112,  16]]), [[50, 0, 16], [55, 0, 16], [59, 0, 16], [48, 16, 16], [52, 16, 16], [55, 16, 16], [50, 32, 16], [55, 32, 16], [59, 32, 16], [48, 48, 16], [52, 48, 16], [55, 48, 16], [50, 64, 16], [55, 64, 16], [59, 64, 16], [48, 80, 16], [52, 80, 16], [55, 80, 16], [50, 96, 16], [55, 96, 16], [59, 96, 16], [50, 112, 16], [55, 112, 16], [59, 112, 16]])\n"
     ]
    }
   ],
   "source": [
    "x = PianoRoll.get_note_info(train_obj.files[0], configs)\n",
    "y_temp = PianoRoll.getNoteTimeOnOffArray(MidiFile(train_obj.files[0]), train_obj.res_factor)\n",
    "y = PianoRoll.getNoteOnLengthArray(y_temp)\n",
    "print(x, y)\n",
    "# np.testing.assert_almost_equal(x,y)"
   ]
  },
  {
   "cell_type": "code",
   "execution_count": null,
   "metadata": {
    "collapsed": true
   },
   "outputs": [],
   "source": []
  }
 ],
 "metadata": {
  "anaconda-cloud": {},
  "kernelspec": {
   "display_name": "Python [conda env:py27]",
   "language": "python",
   "name": "conda-env-py27-py"
  },
  "language_info": {
   "codemirror_mode": {
    "name": "ipython",
    "version": 2
   },
   "file_extension": ".py",
   "mimetype": "text/x-python",
   "name": "python",
   "nbconvert_exporter": "python",
   "pygments_lexer": "ipython2",
   "version": "2.7.12"
  }
 },
 "nbformat": 4,
 "nbformat_minor": 1
}

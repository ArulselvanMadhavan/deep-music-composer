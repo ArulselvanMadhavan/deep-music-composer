{
 "cells": [
  {
   "cell_type": "code",
   "execution_count": 1,
   "metadata": {
    "collapsed": false
   },
   "outputs": [],
   "source": [
    "import numpy as np\n",
    "%load_ext autoreload\n",
    "%autoreload 2"
   ]
  },
  {
   "cell_type": "code",
   "execution_count": 11,
   "metadata": {
    "collapsed": true
   },
   "outputs": [],
   "source": [
    "train_chord_path = \"./trainData/chords/\"\n",
    "train_melody_path = \"./trainData/melody/\""
   ]
  },
  {
   "cell_type": "code",
   "execution_count": 40,
   "metadata": {
    "collapsed": true
   },
   "outputs": [],
   "source": [
    "from PianoRoll import PianoRoll"
   ]
  },
  {
   "cell_type": "code",
   "execution_count": 29,
   "metadata": {
    "collapsed": false
   },
   "outputs": [
    {
     "name": "stdout",
     "output_type": "stream",
     "text": [
      "(128, 59, 48)\n",
      "(128, 83, 60)\n"
     ]
    }
   ],
   "source": [
    "chord_roll = PianoRoll(train_chord_path, res_factor=24)\n",
    "melody_roll = PianoRoll(train_melody_path, res_factor=24)\n",
    "print(chord_roll.ticks, chord_roll.max_note, chord_roll.min_note)\n",
    "print(melody_roll.ticks, melody_roll.max_note, melody_roll.min_note)"
   ]
  },
  {
   "cell_type": "code",
   "execution_count": 6,
   "metadata": {
    "collapsed": false
   },
   "outputs": [
    {
     "name": "stdout",
     "output_type": "stream",
     "text": [
      "(68, 128, 12)\n",
      "(68, 128, 12)\n"
     ]
    }
   ],
   "source": [
    "#Test the Chord piano roll\n",
    "x = chord_roll.generate_piano_roll_func()\n",
    "y = chord_roll.generate_piano_roll()\n",
    "print(x.shape)\n",
    "print(y.shape)\n",
    "np.testing.assert_equal(x, y)"
   ]
  },
  {
   "cell_type": "code",
   "execution_count": 15,
   "metadata": {
    "collapsed": false
   },
   "outputs": [
    {
     "name": "stdout",
     "output_type": "stream",
     "text": [
      "(68, 128, 24)\n",
      "(68, 128, 24)\n"
     ]
    }
   ],
   "source": [
    "# Test the melody piano roll\n",
    "x = melody_roll.generate_piano_roll_func()\n",
    "y = melody_roll.generate_piano_roll()\n",
    "print(x.shape)\n",
    "print(y.shape)\n",
    "np.testing.assert_equal(x, y)"
   ]
  },
  {
   "cell_type": "code",
   "execution_count": 43,
   "metadata": {
    "collapsed": false
   },
   "outputs": [
    {
     "name": "stdout",
     "output_type": "stream",
     "text": [
      "(68, 128, 12)\n"
     ]
    }
   ],
   "source": [
    "#Test Train and Test samples\n",
    "chord_data = chord_roll.generate_piano_roll()\n",
    "chord_double = PianoRoll.doubleRoll(chord_data)\n",
    "mel_data = melody_roll.generate_piano_roll()\n",
    "mel_double = PianoRoll.doubleRoll(mel_data)\n",
    "\n",
    "ip_data, tar_data = PianoRoll.createNetInputs(chord_double, mel_double, seq_length=128)\n",
    "y_ip, y_tar = PianoRoll.generate_samples(chord_data, mel_data, seq_length=128)\n",
    "np.testing.assert_equal(ip_data, y_ip)\n",
    "np.testing.assert_equal(tar_data, y_tar)"
   ]
  },
  {
   "cell_type": "markdown",
   "metadata": {},
   "source": [
    "# Old Tests"
   ]
  },
  {
   "cell_type": "code",
   "execution_count": 24,
   "metadata": {
    "collapsed": false
   },
   "outputs": [
    {
     "name": "stdout",
     "output_type": "stream",
     "text": [
      "[[[ 0  1  2  3  4]\n",
      "  [ 5  6  7  8  9]\n",
      "  [10 11 12 13 14]\n",
      "  [ 0  1  2  3  4]\n",
      "  [ 5  6  7  8  9]\n",
      "  [10 11 12 13 14]]\n",
      "\n",
      " [[15 16 17 18 19]\n",
      "  [20 21 22 23 24]\n",
      "  [25 26 27 28 29]\n",
      "  [15 16 17 18 19]\n",
      "  [20 21 22 23 24]\n",
      "  [25 26 27 28 29]]\n",
      "\n",
      " [[30 31 32 33 34]\n",
      "  [35 36 37 38 39]\n",
      "  [40 41 42 43 44]\n",
      "  [30 31 32 33 34]\n",
      "  [35 36 37 38 39]\n",
      "  [40 41 42 43 44]]\n",
      "\n",
      " [[45 46 47 48 49]\n",
      "  [50 51 52 53 54]\n",
      "  [55 56 57 58 59]\n",
      "  [45 46 47 48 49]\n",
      "  [50 51 52 53 54]\n",
      "  [55 56 57 58 59]]\n",
      "\n",
      " [[60 61 62 63 64]\n",
      "  [65 66 67 68 69]\n",
      "  [70 71 72 73 74]\n",
      "  [60 61 62 63 64]\n",
      "  [65 66 67 68 69]\n",
      "  [70 71 72 73 74]]]\n"
     ]
    }
   ],
   "source": [
    "# Test tile\n",
    "x = np.arange(75).reshape((5,3,5))\n",
    "y = np.tile(x,(1,2,1))"
   ]
  },
  {
   "cell_type": "code",
   "execution_count": 7,
   "metadata": {
    "collapsed": false
   },
   "outputs": [],
   "source": [
    "# #Note On OFF Array Test - Shape\n",
    "# from mido import MidiFile\n",
    "# configs = {\n",
    "#             \"res_factor\":train_obj.res_factor,\n",
    "#             \"max_note\": train_obj.max_note,\n",
    "#             \"min_note\": train_obj.min_note\n",
    "#         }\n",
    "# x = PianoRoll.get_note_info(train_obj.files[0], configs)\n",
    "# y = PianoRoll.getNoteTimeOnOffArray(MidiFile(train_obj.files[0]), train_obj.res_factor)\n",
    "# y = np.array(y)\n",
    "# np.testing.assert_almost_equal(x, y)"
   ]
  },
  {
   "cell_type": "code",
   "execution_count": 8,
   "metadata": {
    "collapsed": false
   },
   "outputs": [],
   "source": [
    "# notes = x.T[0]\n",
    "# for i in range(train_obj.min_note, train_obj.max_note + 1):\n",
    "#     print(\"{}\\t{}\\t{}\".format(i, (notes == i).sum(), ((notes == i).sum() % 2) == 0))"
   ]
  },
  {
   "cell_type": "code",
   "execution_count": 9,
   "metadata": {
    "collapsed": false
   },
   "outputs": [],
   "source": [
    "# c = [np.array(np.arange(200).reshape(2,10,10)), np.array(np.arange(200).reshape(2,10,10))]\n",
    "# np.vstack(c).shape"
   ]
  },
  {
   "cell_type": "code",
   "execution_count": 10,
   "metadata": {
    "collapsed": false
   },
   "outputs": [],
   "source": [
    "# x = PianoRoll.get_note_info(train_obj.files[0], configs)\n",
    "# y_temp = PianoRoll.getNoteTimeOnOffArray(MidiFile(train_obj.files[0]), train_obj.res_factor)\n",
    "# y = PianoRoll.getNoteOnLengthArray(y_temp)\n",
    "# np.testing.assert_almost_equal(x,y)"
   ]
  },
  {
   "cell_type": "code",
   "execution_count": null,
   "metadata": {
    "collapsed": true
   },
   "outputs": [],
   "source": []
  }
 ],
 "metadata": {
  "anaconda-cloud": {},
  "kernelspec": {
   "display_name": "Python [conda env:py27]",
   "language": "python",
   "name": "conda-env-py27-py"
  },
  "language_info": {
   "codemirror_mode": {
    "name": "ipython",
    "version": 2
   },
   "file_extension": ".py",
   "mimetype": "text/x-python",
   "name": "python",
   "nbconvert_exporter": "python",
   "pygments_lexer": "ipython2",
   "version": "2.7.12"
  }
 },
 "nbformat": 4,
 "nbformat_minor": 1
}

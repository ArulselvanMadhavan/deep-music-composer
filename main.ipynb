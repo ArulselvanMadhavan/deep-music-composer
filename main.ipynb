{
 "cells": [
  {
   "cell_type": "code",
   "execution_count": 10,
   "metadata": {
    "collapsed": true
   },
   "outputs": [],
   "source": [
    "import numpy as np\n",
    "%load_ext autoreload\n",
    "%autoreload 2"
   ]
  },
  {
   "cell_type": "code",
   "execution_count": 164,
   "metadata": {
    "collapsed": true
   },
   "outputs": [],
   "source": [
    "train_data_path = \"./playData/chords/\""
   ]
  },
  {
   "cell_type": "code",
   "execution_count": 159,
   "metadata": {
    "collapsed": false
   },
   "outputs": [],
   "source": [
    "from PianoRoll import PianoRoll"
   ]
  },
  {
   "cell_type": "code",
   "execution_count": 166,
   "metadata": {
    "collapsed": false
   },
   "outputs": [],
   "source": [
    "train_obj = PianoRoll(train_data_path, res_factor=24)"
   ]
  },
  {
   "cell_type": "code",
   "execution_count": 167,
   "metadata": {
    "collapsed": false
   },
   "outputs": [
    {
     "name": "stdout",
     "output_type": "stream",
     "text": [
      "(128, 59, 48)\n"
     ]
    }
   ],
   "source": [
    "print(train_obj.ticks, train_obj.max_note, train_obj.min_note)"
   ]
  },
  {
   "cell_type": "code",
   "execution_count": 168,
   "metadata": {
    "collapsed": false
   },
   "outputs": [
    {
     "name": "stdout",
     "output_type": "stream",
     "text": [
      "(48, 3)\n",
      "(48, 3)\n"
     ]
    }
   ],
   "source": [
    "#Note On OFF Array Test - Shape\n",
    "from mido import MidiFile\n",
    "x = train_obj.generate_piano_roll_func()\n",
    "y = PianoRoll.getNoteTimeOnOffArray(MidiFile(train_obj.files[0]), train_obj.res_factor)\n",
    "y = np.array(y)\n",
    "np.testing.assert_almost_equal(x, y)"
   ]
  },
  {
   "cell_type": "code",
   "execution_count": 169,
   "metadata": {
    "collapsed": false
   },
   "outputs": [
    {
     "data": {
      "text/plain": [
       "[array([[  50.,    0.,    1.],\n",
       "        [  55.,    0.,    1.],\n",
       "        [  59.,    0.,    1.],\n",
       "        [  48.,   16.,    1.],\n",
       "        [  50.,   16.,    0.],\n",
       "        [  52.,   16.,    1.],\n",
       "        [  55.,   16.,    0.],\n",
       "        [  55.,   16.,    1.],\n",
       "        [  59.,   16.,    0.],\n",
       "        [  48.,   32.,    0.],\n",
       "        [  50.,   32.,    1.],\n",
       "        [  52.,   32.,    0.],\n",
       "        [  55.,   32.,    0.],\n",
       "        [  55.,   32.,    1.],\n",
       "        [  59.,   32.,    1.],\n",
       "        [  48.,   48.,    1.],\n",
       "        [  50.,   48.,    0.],\n",
       "        [  52.,   48.,    1.],\n",
       "        [  55.,   48.,    0.],\n",
       "        [  55.,   48.,    1.],\n",
       "        [  59.,   48.,    0.],\n",
       "        [  48.,   64.,    0.],\n",
       "        [  50.,   64.,    1.],\n",
       "        [  52.,   64.,    0.],\n",
       "        [  55.,   64.,    0.],\n",
       "        [  55.,   64.,    1.],\n",
       "        [  59.,   64.,    1.],\n",
       "        [  48.,   80.,    1.],\n",
       "        [  50.,   80.,    0.],\n",
       "        [  52.,   80.,    1.],\n",
       "        [  55.,   80.,    0.],\n",
       "        [  55.,   80.,    1.],\n",
       "        [  59.,   80.,    0.],\n",
       "        [  48.,   96.,    0.],\n",
       "        [  50.,   96.,    1.],\n",
       "        [  52.,   96.,    0.],\n",
       "        [  55.,   96.,    0.],\n",
       "        [  55.,   96.,    1.],\n",
       "        [  59.,   96.,    1.],\n",
       "        [  50.,  112.,    0.],\n",
       "        [  50.,  112.,    1.],\n",
       "        [  55.,  112.,    0.],\n",
       "        [  55.,  112.,    1.],\n",
       "        [  59.,  112.,    0.],\n",
       "        [  59.,  112.,    1.],\n",
       "        [  50.,  128.,    0.],\n",
       "        [  55.,  128.,    0.],\n",
       "        [  59.,  128.,    0.]])]"
      ]
     },
     "execution_count": 169,
     "metadata": {},
     "output_type": "execute_result"
    }
   ],
   "source": [
    "train_obj.generate_piano_roll_func()"
   ]
  },
  {
   "cell_type": "code",
   "execution_count": 117,
   "metadata": {
    "collapsed": false
   },
   "outputs": [
    {
     "data": {
      "text/plain": [
       "(2, 3)"
      ]
     },
     "execution_count": 117,
     "metadata": {},
     "output_type": "execute_result"
    }
   ],
   "source": [
    "c = [np.array([1,2,3]), np.array([4,5,6])]\n",
    "np.vstack(c).shape"
   ]
  },
  {
   "cell_type": "code",
   "execution_count": 170,
   "metadata": {
    "collapsed": false
   },
   "outputs": [
    {
     "data": {
      "text/plain": [
       "[[0], [0], [0], [0], [0]]"
      ]
     },
     "execution_count": 170,
     "metadata": {},
     "output_type": "execute_result"
    }
   ],
   "source": [
    "[[0]] * 5"
   ]
  },
  {
   "cell_type": "code",
   "execution_count": null,
   "metadata": {
    "collapsed": true
   },
   "outputs": [],
   "source": []
  }
 ],
 "metadata": {
  "anaconda-cloud": {},
  "kernelspec": {
   "display_name": "Python [conda env:py27]",
   "language": "python",
   "name": "conda-env-py27-py"
  },
  "language_info": {
   "codemirror_mode": {
    "name": "ipython",
    "version": 2
   },
   "file_extension": ".py",
   "mimetype": "text/x-python",
   "name": "python",
   "nbconvert_exporter": "python",
   "pygments_lexer": "ipython2",
   "version": "2.7.12"
  }
 },
 "nbformat": 4,
 "nbformat_minor": 1
}

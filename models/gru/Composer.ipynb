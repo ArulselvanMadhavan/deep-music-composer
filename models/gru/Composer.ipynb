{
 "cells": [
  {
   "cell_type": "code",
   "execution_count": 1,
   "metadata": {
    "collapsed": true
   },
   "outputs": [],
   "source": [
    "import numpy as np\n",
    "import matplotlib.pyplot as plt\n",
    "import os\n",
    "import time\n",
    "import sys\n",
    "import glob\n",
    "from os import listdir\n",
    "%matplotlib inline\n",
    "plt.rcParams['figure.figsize'] = (10.0, 8.0)\n",
    "plt.rcParams['image.interpolation'] = 'nearest'\n",
    "plt.rcParams['image.cmap'] = 'gray'\n",
    "%load_ext autoreload\n",
    "%autoreload 2"
   ]
  },
  {
   "cell_type": "code",
   "execution_count": 2,
   "metadata": {
    "collapsed": false
   },
   "outputs": [
    {
     "name": "stderr",
     "output_type": "stream",
     "text": [
      "Using Theano backend.\n"
     ]
    }
   ],
   "source": [
    "#Keras Imports\n",
    "from keras.models import model_from_json\n",
    "from keras.models import Sequential\n",
    "from keras.layers.recurrent import GRU"
   ]
  },
  {
   "cell_type": "code",
   "execution_count": 3,
   "metadata": {
    "collapsed": true
   },
   "outputs": [],
   "source": [
    "#PianoRoll\n",
    "sys.path.append(os.getcwd()+\"/../../PianoRoll/\")\n",
    "sys.path.append(os.getcwd()+\"/../../\")\n",
    "from PianoRoll import PianoRoll\n",
    "from Utils import Utils\n",
    "from metrics import Metrics"
   ]
  },
  {
   "cell_type": "code",
   "execution_count": 4,
   "metadata": {
    "collapsed": true
   },
   "outputs": [],
   "source": [
    "res_factor = 12\n",
    "note_threshold = 0.1\n",
    "#Composer paths\n",
    "chord_dir = os.getcwd() + \"/../../data/testData/chords/\"\n",
    "composition_dir = os.getcwd() + \"/compositions/\"\n",
    "#Checkpoint paths\n",
    "model_dir = os.getcwd() + \"/checkpoints/model/\"\n",
    "weights_dir = os.getcwd() + \"/checkpoints/weights/\"\n",
    "\n",
    "#Other constants\n",
    "MIDI_FILE_EXTENSION = \"mid\"\n",
    "NOTE_ON = \"note_on\"\n",
    "NOTE_OFF = \"note_off\"\n",
    "MAX_NOTE = \"max_note\"\n",
    "MIN_NOTE = \"min_note\"\n",
    "TICKS = \"ticks\"\n",
    "MIN_NOTE_INITIALIZER = 10000\n",
    "MAX_NOTE_INITIALIZER = 0\n",
    "MAX_TICK_INITIALIZER = 0\n",
    "MELODY_LOWEST_NOTE = 60"
   ]
  },
  {
   "cell_type": "code",
   "execution_count": 5,
   "metadata": {
    "collapsed": false
   },
   "outputs": [
    {
     "name": "stdout",
     "output_type": "stream",
     "text": [
      "(['/Users/arulselvanmadhavan/cs6140-machine-learning/Keras_projects/LSTM-RNN-Melody-Composer/models/gru/../../data/testData/chords/1_testchord.mid', '/Users/arulselvanmadhavan/cs6140-machine-learning/Keras_projects/LSTM-RNN-Melody-Composer/models/gru/../../data/testData/chords/2_testchord.mid', '/Users/arulselvanmadhavan/cs6140-machine-learning/Keras_projects/LSTM-RNN-Melody-Composer/models/gru/../../data/testData/chords/3_testchord.mid', '/Users/arulselvanmadhavan/cs6140-machine-learning/Keras_projects/LSTM-RNN-Melody-Composer/models/gru/../../data/testData/chords/4_testchord.mid', '/Users/arulselvanmadhavan/cs6140-machine-learning/Keras_projects/LSTM-RNN-Melody-Composer/models/gru/../../data/testData/chords/5_testchord.mid', '/Users/arulselvanmadhavan/cs6140-machine-learning/Keras_projects/LSTM-RNN-Melody-Composer/models/gru/../../data/testData/chords/6_testchord.mid', '/Users/arulselvanmadhavan/cs6140-machine-learning/Keras_projects/LSTM-RNN-Melody-Composer/models/gru/../../data/testData/chords/7_testchord.mid', '/Users/arulselvanmadhavan/cs6140-machine-learning/Keras_projects/LSTM-RNN-Melody-Composer/models/gru/../../data/testData/chords/8_testchord.mid'], ['1', '2', '3', '4', '5', '6', '7', '8'])\n"
     ]
    }
   ],
   "source": [
    "chord_files = glob.glob(\"%s*.mid\" %(chord_dir))\n",
    "composition_files = []\n",
    "for i in range(len(chord_files)):\n",
    "    composition_files.append('%d' %(i+1))\n",
    "print(chord_files, composition_files)"
   ]
  },
  {
   "cell_type": "code",
   "execution_count": 6,
   "metadata": {
    "collapsed": false
   },
   "outputs": [
    {
     "name": "stdout",
     "output_type": "stream",
     "text": [
      "# of Ticks:256\tMax_Note:59\tMin_Note:48\n"
     ]
    }
   ],
   "source": [
    "chord_test_roll = PianoRoll(chord_dir, res_factor=res_factor)\n",
    "print(\"# of Ticks:{}\\tMax_Note:{}\\tMin_Note:{}\".format(chord_test_roll.ticks,\n",
    "                                                  chord_test_roll.max_note,\n",
    "                                                  chord_test_roll.min_note))"
   ]
  },
  {
   "cell_type": "code",
   "execution_count": 7,
   "metadata": {
    "collapsed": true
   },
   "outputs": [],
   "source": [
    "chord_test_data = chord_test_roll.generate_piano_roll_func()\n",
    "X_test = PianoRoll.generate_test_samples(chord_test_data, chord_test_roll.ticks)"
   ]
  },
  {
   "cell_type": "code",
   "execution_count": 8,
   "metadata": {
    "collapsed": false
   },
   "outputs": [
    {
     "name": "stdout",
     "output_type": "stream",
     "text": [
      "Choose a file for the model:\n",
      "---------------------------------------\n",
      "0 : 1layer_3epochs_20161130_13_25.json\n",
      "---------------------------------------\n",
      "Enter the index of the file model that you want:\t0\n",
      "Loading model from /Users/arulselvanmadhavan/cs6140-machine-learning/Keras_projects/LSTM-RNN-Melody-Composer/models/gru/checkpoints/model/1layer_3epochs_20161130_13_25.json\n"
     ]
    }
   ],
   "source": [
    "#Load Model\n",
    "model_files = listdir(model_dir)\n",
    "print(\"Choose a file for the model:\")\n",
    "print(\"---------------------------------------\")\n",
    "for i, file in enumerate(model_files):\n",
    "    print(str(i) + \" : \" + file)\n",
    "print(\"---------------------------------------\")\n",
    "file_index = input(\"Enter the index of the file model that you want:\\t\")\n",
    "model_path = model_dir + model_files[file_index]\n",
    "print(\"Loading model from {}\".format(model_path))\n",
    "model = model_from_json(open(model_path).read())"
   ]
  },
  {
   "cell_type": "code",
   "execution_count": null,
   "metadata": {
    "collapsed": true
   },
   "outputs": [],
   "source": []
  }
 ],
 "metadata": {
  "anaconda-cloud": {},
  "kernelspec": {
   "display_name": "Python [conda env:py27]",
   "language": "python",
   "name": "conda-env-py27-py"
  },
  "language_info": {
   "codemirror_mode": {
    "name": "ipython",
    "version": 2
   },
   "file_extension": ".py",
   "mimetype": "text/x-python",
   "name": "python",
   "nbconvert_exporter": "python",
   "pygments_lexer": "ipython2",
   "version": "2.7.12"
  }
 },
 "nbformat": 4,
 "nbformat_minor": 1
}

{
 "cells": [
  {
   "cell_type": "code",
   "execution_count": 1,
   "metadata": {
    "collapsed": false
   },
   "outputs": [
    {
     "name": "stdout",
     "output_type": "stream",
     "text": [
      "//anaconda/envs/py27/bin/python\r\n"
     ]
    }
   ],
   "source": [
    "!which python"
   ]
  },
  {
   "cell_type": "code",
   "execution_count": 2,
   "metadata": {
    "collapsed": true
   },
   "outputs": [],
   "source": [
    "import numpy as np\n",
    "import matplotlib.pyplot as plt\n",
    "import os\n",
    "import time\n",
    "import sys\n",
    "import glob\n",
    "import json\n",
    "from os import listdir\n",
    "%matplotlib inline\n",
    "plt.rcParams['figure.figsize'] = (10.0, 8.0)\n",
    "plt.rcParams['image.interpolation'] = 'nearest'\n",
    "plt.rcParams['image.cmap'] = 'gray'\n",
    "%load_ext autoreload\n",
    "%autoreload 2"
   ]
  },
  {
   "cell_type": "code",
   "execution_count": 3,
   "metadata": {
    "collapsed": false
   },
   "outputs": [
    {
     "name": "stderr",
     "output_type": "stream",
     "text": [
      "Using Theano backend.\n"
     ]
    }
   ],
   "source": [
    "from keras.models import Sequential\n",
    "from keras.layers.recurrent import GRU\n",
    "from keras.callbacks import ModelCheckpoint\n",
    "from keras.callbacks import Callback\n",
    "from keras.models import model_from_json\n",
    "from keras.optimizers import Adam\n",
    "from keras.regularizers import WeightRegularizer"
   ]
  },
  {
   "cell_type": "code",
   "execution_count": 4,
   "metadata": {
    "collapsed": true
   },
   "outputs": [],
   "source": [
    "#PianoRoll\n",
    "sys.path.append(os.getcwd()+\"/../../PianoRoll/\")\n",
    "sys.path.append(os.getcwd()+\"/../../\")\n",
    "from PianoRoll import PianoRoll\n",
    "from Utils import Utils\n",
    "from metrics import Metrics"
   ]
  },
  {
   "cell_type": "code",
   "execution_count": 5,
   "metadata": {
    "collapsed": true
   },
   "outputs": [],
   "source": [
    "#RNN Config\n",
    "num_epochs = 100\n",
    "batch_size = 128\n",
    "num_layers = 1\n",
    "loss_function = 'categorical_crossentropy'\n",
    "optimizer = 'adam'\n",
    "activ_func = \"sigmoid\"\n",
    "validation_split = 0.1\n",
    "res_factor = 12\n",
    "le_rate = 0.001\n",
    "dropout_W = 0.1\n",
    "dropout_U = 0.1\n",
    "\n",
    "#Checkpoint paths\n",
    "# checkpoints_dir = os.getcwd() + \"/checkpoints/\"\n",
    "model_dir = os.getcwd() + \"/checkpoints/model/\"\n",
    "weights_dir = os.getcwd() + \"/checkpoints/weights/\"\n",
    "stats_dir = os.getcwd() + \"/checkpoints/stats/\"\n",
    "train_chord_path = os.getcwd() + \"/../../data/trainData/chords/\"\n",
    "train_melody_path = os.getcwd() + \"/../../data/trainData/melody/\"\n",
    "test_chord_path = os.getcwd() + \"/../../data/testData/chords/\"\n",
    "\n",
    "#Results - Plots file\n",
    "results_dir = os.getcwd() + \"/results/\"\n",
    "\n",
    "#Other constants\n",
    "MIDI_FILE_EXTENSION = \"mid\"\n",
    "NOTE_ON = \"note_on\"\n",
    "NOTE_OFF = \"note_off\"\n",
    "MAX_NOTE = \"max_note\"\n",
    "MIN_NOTE = \"min_note\"\n",
    "TICKS = \"ticks\"\n",
    "MIN_NOTE_INITIALIZER = 10000\n",
    "MAX_NOTE_INITIALIZER = 0\n",
    "MAX_TICK_INITIALIZER = 0\n",
    "MELODY_LOWEST_NOTE = 60"
   ]
  },
  {
   "cell_type": "code",
   "execution_count": 6,
   "metadata": {
    "collapsed": false
   },
   "outputs": [
    {
     "name": "stdout",
     "output_type": "stream",
     "text": [
      "Number of ticks:256\tMax_Note:59\tMin_Note:48\n",
      "Number of ticks:256\tMax_Note:83\tMin_Note:60\n"
     ]
    }
   ],
   "source": [
    "chord_roll = PianoRoll(train_chord_path, res_factor=res_factor)\n",
    "melody_roll = PianoRoll(train_melody_path, res_factor=res_factor)\n",
    "chord_roll_test = PianoRoll(test_chord_path, res_factor=res_factor)\n",
    "print(\"Number of ticks:{}\\tMax_Note:{}\\tMin_Note:{}\".format(chord_roll.ticks,\n",
    "                                                            chord_roll.max_note,\n",
    "                                                            chord_roll.min_note))\n",
    "print(\"Number of ticks:{}\\tMax_Note:{}\\tMin_Note:{}\".format(melody_roll.ticks,\n",
    "                                                            melody_roll.max_note,\n",
    "                                                            melody_roll.min_note))"
   ]
  },
  {
   "cell_type": "code",
   "execution_count": 7,
   "metadata": {
    "collapsed": false
   },
   "outputs": [
    {
     "name": "stdout",
     "output_type": "stream",
     "text": [
      "(68, 256, 13)\n"
     ]
    }
   ],
   "source": [
    "X_roll = chord_roll.chord2roll_wrapper(train_chord_path, \n",
    "                              chord_roll.ticks, \n",
    "                              chord_roll.min_note,\n",
    "                              chord_roll.max_note - chord_roll.min_note + 2,\n",
    "                              res_factor = chord_roll.res_factor)\n",
    "print(X_roll.shape)"
   ]
  },
  {
   "cell_type": "code",
   "execution_count": 8,
   "metadata": {
    "collapsed": false
   },
   "outputs": [
    {
     "name": "stdout",
     "output_type": "stream",
     "text": [
      "(68, 256, 25)\n",
      "{0: 1080, 61: 360, 62: 16, 63: 471, 64: 92, 65: 899, 66: 1517, 67: 126, 68: 2376, 69: 48, 70: 2075, 71: 952, 72: 1398, 73: 1872, 74: 84, 75: 1782, 76: 30, 77: 761, 78: 565, 79: 178, 80: 543, 82: 129, 83: 22, 84: 32}\n"
     ]
    }
   ],
   "source": [
    "y_roll, stats = melody_roll.melody2roll_wrapper(train_melody_path,\n",
    "                                          melody_roll.ticks,\n",
    "                                          melody_roll.min_note,\n",
    "                                          melody_roll.max_note - melody_roll.min_note + 2,\n",
    "                                          res_factor = melody_roll.res_factor)\n",
    "print(y_roll.shape)\n",
    "print(stats)"
   ]
  },
  {
   "cell_type": "code",
   "execution_count": 9,
   "metadata": {
    "collapsed": false
   },
   "outputs": [
    {
     "name": "stdout",
     "output_type": "stream",
     "text": [
      "('Train Data:', (17408, 256, 13))\n",
      "('Train Target:', (17408, 25))\n"
     ]
    }
   ],
   "source": [
    "X_double_roll = np.tile(X_roll, (1, 2, 1))\n",
    "y_double_roll = np.tile(y_roll, (1, 2, 1))\n",
    "X_train,y_train = chord_roll.createNetInputs(X_double_roll, y_double_roll, seq_length=chord_roll.ticks)\n",
    "print(\"Train Data:\", X_train.shape)\n",
    "print(\"Train Target:\", y_train.shape)"
   ]
  },
  {
   "cell_type": "code",
   "execution_count": 10,
   "metadata": {
    "collapsed": false
   },
   "outputs": [
    {
     "name": "stdout",
     "output_type": "stream",
     "text": [
      "____________________________________________________________________________________________________\n",
      "Layer (type)                     Output Shape          Param #     Connected to                     \n",
      "====================================================================================================\n",
      "gru_1 (GRU)                      (None, 25)            2925        gru_input_1[0][0]                \n",
      "====================================================================================================\n",
      "Total params: 2925\n",
      "____________________________________________________________________________________________________\n",
      "None\n"
     ]
    }
   ],
   "source": [
    "D = X_train.shape[2] #Number of input dimensions\n",
    "C = y_train.shape[1] #Number of classes\n",
    "run_name = \"{}layer_{}epoch\".format(num_layers, num_epochs)\n",
    "model = Sequential()\n",
    "# reg_W = WeightRegularizer(l1=0.01, l2=0.)\n",
    "# reg_U = WeightRegularizer(l1=0.01, l2=0.)\n",
    "# reg_b = WeightRegularizer(l1=0.01, l2=0.)\n",
    "if num_layers <= 1:\n",
    "    model.add(GRU(input_dim = D, \n",
    "                   output_dim=C, \n",
    "                   activation=activ_func,\n",
    "#                    W_regularizer = reg_W,\n",
    "#                    U_regularizer = reg_U,\n",
    "#                    b_regularizer = reg_b,\n",
    "                   dropout_W = dropout_W,\n",
    "                   dropout_U = dropout_U,\n",
    "                   return_sequences=False))\n",
    "else:\n",
    "    layer_dims = int(input(\"Enter the number of units in hidden layer#{}\\t\".format(1)))\n",
    "    run_name = run_name + \"_\" + str(layer_dims)\n",
    "    model.add(GRU(input_dim = D, \n",
    "                   output_dim=layer_dims, \n",
    "                   activation=activ_func,\n",
    "#                     W_regularizer = reg_W,\n",
    "#                    U_regularizer = reg_U,\n",
    "#                    b_regularizer = reg_b,\n",
    "                   dropout_W = dropout_W,\n",
    "                   dropout_U = dropout_U,\n",
    "                   return_sequences=True))\n",
    "    for layer_id in range(2, num_layers):\n",
    "        layer_dims = int(input(\"Enter the number of units in the hidden layer#{}\\t\".format(layer_id)))\n",
    "        run_name = run_name + \"_\" + str(layer_dims)\n",
    "        reg_W = WeightRegularizer(l1=0.01, l2=0.)\n",
    "        reg_U = WeightRegularizer(l1=0.01, l2=0.)\n",
    "        reg_b = WeightRegularizer(l1=0.01, l2=0.)\n",
    "        model.add(GRU(output_dim=layer_dims, \n",
    "                       activation=activ_func,\n",
    "#                        W_regularizer = reg_W,\n",
    "#                        U_regularizer = reg_U,\n",
    "#                        b_regularizer = reg_b,\n",
    "                       dropout_W = dropout_W,\n",
    "                       dropout_U = dropout_U,\n",
    "                       return_sequences=True))\n",
    "    reg_W = WeightRegularizer(l1=0.01, l2=0.)\n",
    "    reg_U = WeightRegularizer(l1=0.01, l2=0.)\n",
    "    reg_b = WeightRegularizer(l1=0.01, l2=0.)\n",
    "    model.add(GRU(output_dim=C, \n",
    "                   activation=activ_func,\n",
    "#                    W_regularizer = reg_W,\n",
    "#                    U_regularizer = reg_U,\n",
    "#                    b_regularizer = reg_b,\n",
    "                   dropout_W = dropout_W,\n",
    "                   dropout_U = dropout_U,\n",
    "                   return_sequences=False))\n",
    "print(model.summary())\n",
    "# print(model.get_config())"
   ]
  },
  {
   "cell_type": "code",
   "execution_count": null,
   "metadata": {
    "collapsed": true
   },
   "outputs": [],
   "source": [
    "if optimizer == \"adam\":\n",
    "    opt_func = Adam(lr=le_rate, beta_1=0.9, beta_2=0.999, epsilon=1e-08, decay=0.0)\n",
    "model.compile(loss=loss_function, metrics=[\"accuracy\"], optimizer=optimizer)"
   ]
  },
  {
   "cell_type": "code",
   "execution_count": null,
   "metadata": {
    "collapsed": false
   },
   "outputs": [
    {
     "name": "stdout",
     "output_type": "stream",
     "text": [
      "('Checkpoint Path', '/Users/arulselvanmadhavan/cs6140-machine-learning/Keras_projects/LSTM-RNN-Melody-Composer/models/gru/checkpoints/weights/ckpt_1layer_100epoch_{epoch:02d}-{acc:.2f}.hdf5')\n",
      "Train on 15667 samples, validate on 1741 samples\n",
      "Epoch 1/100\n",
      "10624/15667 [===================>..........] - ETA: 23s - loss: 3.0108 - acc: 0.1114"
     ]
    }
   ],
   "source": [
    "history = Metrics()\n",
    "filepath = weights_dir+\"ckpt_\" + run_name + \"_{epoch:02d}-{acc:.2f}.hdf5\"\n",
    "print(\"Checkpoint Path\", filepath)\n",
    "ckpt = ModelCheckpoint(filepath, monitor='acc', verbose=0, save_best_only=True, save_weights_only=False, mode='max')\n",
    "model.fit(X_train, y_train, \n",
    "          batch_size=batch_size, \n",
    "          nb_epoch=num_epochs, \n",
    "          callbacks=[history, ckpt], \n",
    "          validation_split=validation_split)"
   ]
  },
  {
   "cell_type": "code",
   "execution_count": null,
   "metadata": {
    "collapsed": false
   },
   "outputs": [],
   "source": [
    "#Create Checkpoints\n",
    "weights_file = \"{}layer_{}epochs_{}\".format(num_layers, num_epochs, time.strftime(\"%Y%m%d_%H_%M.h5\"))\n",
    "model.save_weights(weights_dir + weights_file)\n",
    "model_file = \"{}layer_{}epochs_{}\".format(num_layers, num_epochs, time.strftime(\"%Y%m%d_%H_%M.json\"))\n",
    "with open(model_dir + model_file, \"w\") as model_file_writer:\n",
    "    model_file_writer.write(model.to_json())"
   ]
  },
  {
   "cell_type": "code",
   "execution_count": null,
   "metadata": {
    "collapsed": true
   },
   "outputs": [],
   "source": [
    "stats_file = \"{}layer_{}epochs_{}\".format(num_layers, num_epochs, time.strftime(\"%Y%m%d_%H_%M.npy\"))\n",
    "np.save(stats_dir+stats_file, np.array(history.stats))"
   ]
  },
  {
   "cell_type": "markdown",
   "metadata": {},
   "source": [
    "# Visualize the Stats"
   ]
  },
  {
   "cell_type": "code",
   "execution_count": null,
   "metadata": {
    "collapsed": false
   },
   "outputs": [],
   "source": [
    "title = \"lstm_{}layer_{}epochs\".format(num_layers, num_epochs)\n",
    "results_file = title + \"_\" + time.strftime(\"%Y%m%d_%H_%M.jpg\")\n",
    "Utils.visualize_stats(history.stats, results_dir + results_file, title)"
   ]
  }
 ],
 "metadata": {
  "anaconda-cloud": {},
  "kernelspec": {
   "display_name": "Python [conda env:py27]",
   "language": "python",
   "name": "conda-env-py27-py"
  },
  "language_info": {
   "codemirror_mode": {
    "name": "ipython",
    "version": 2
   },
   "file_extension": ".py",
   "mimetype": "text/x-python",
   "name": "python",
   "nbconvert_exporter": "python",
   "pygments_lexer": "ipython2",
   "version": "2.7.12"
  }
 },
 "nbformat": 4,
 "nbformat_minor": 1
}

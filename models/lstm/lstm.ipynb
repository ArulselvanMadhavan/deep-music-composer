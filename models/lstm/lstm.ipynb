{
 "cells": [
  {
   "cell_type": "code",
   "execution_count": 1,
   "metadata": {
    "collapsed": false
   },
   "outputs": [
    {
     "name": "stdout",
     "output_type": "stream",
     "text": [
      "//anaconda/envs/py27/bin/python\r\n"
     ]
    }
   ],
   "source": [
    "!which python"
   ]
  },
  {
   "cell_type": "code",
   "execution_count": 2,
   "metadata": {
    "collapsed": false
   },
   "outputs": [],
   "source": [
    "import numpy as np\n",
    "import matplotlib.pyplot as plt\n",
    "import os\n",
    "import time\n",
    "import sys\n",
    "import glob\n",
    "import json\n",
    "from os import listdir\n",
    "%matplotlib inline\n",
    "plt.rcParams['figure.figsize'] = (10.0, 8.0)\n",
    "plt.rcParams['image.interpolation'] = 'nearest'\n",
    "plt.rcParams['image.cmap'] = 'gray'\n",
    "%load_ext autoreload\n",
    "%autoreload 2"
   ]
  },
  {
   "cell_type": "code",
   "execution_count": 3,
   "metadata": {
    "collapsed": false
   },
   "outputs": [
    {
     "name": "stderr",
     "output_type": "stream",
     "text": [
      "Using Theano backend.\n"
     ]
    }
   ],
   "source": [
    "from keras.models import Sequential\n",
    "from keras.layers.recurrent import LSTM\n",
    "from keras.callbacks import ModelCheckpoint\n",
    "from keras.callbacks import Callback\n",
    "from keras.models import model_from_json\n",
    "from keras.optimizers import Adam\n",
    "from keras.regularizers import WeightRegularizer"
   ]
  },
  {
   "cell_type": "code",
   "execution_count": 4,
   "metadata": {
    "collapsed": false
   },
   "outputs": [],
   "source": [
    "#PianoRoll\n",
    "sys.path.append(os.getcwd()+\"/../../PianoRoll/\")\n",
    "sys.path.append(os.getcwd()+\"/../../\")\n",
    "from PianoRoll import PianoRoll\n",
    "from Utils import Utils\n",
    "from metrics import Metrics"
   ]
  },
  {
   "cell_type": "code",
   "execution_count": 5,
   "metadata": {
    "collapsed": false
   },
   "outputs": [],
   "source": [
    "#RNN Config\n",
    "num_epochs = 100\n",
    "batch_size = 128\n",
    "num_layers = 2\n",
    "loss_function = 'categorical_crossentropy'\n",
    "optimizer = 'adam'\n",
    "activ_func = \"sigmoid\"\n",
    "validation_split = 0.1\n",
    "res_factor = 12\n",
    "le_rate = 0.001\n",
    "dropout_W = 0.1\n",
    "dropout_U = 0.1\n",
    "\n",
    "#Checkpoint paths\n",
    "# checkpoints_dir = os.getcwd() + \"/checkpoints/\"\n",
    "model_dir = os.getcwd() + \"/checkpoints/model/\"\n",
    "weights_dir = os.getcwd() + \"/checkpoints/weights/\"\n",
    "stats_dir = os.getcwd() + \"/checkpoints/stats/\"\n",
    "train_chord_path = os.getcwd() + \"/../../data/trainData/chords/\"\n",
    "train_melody_path = os.getcwd() + \"/../../data/trainData/melody/\"\n",
    "test_chord_path = os.getcwd() + \"/../../data/testData/chords/\"\n",
    "\n",
    "#Results - Plots file\n",
    "results_dir = os.getcwd() + \"/results/\"\n",
    "\n",
    "#Other constants\n",
    "MIDI_FILE_EXTENSION = \"mid\"\n",
    "NOTE_ON = \"note_on\"\n",
    "NOTE_OFF = \"note_off\"\n",
    "MAX_NOTE = \"max_note\"\n",
    "MIN_NOTE = \"min_note\"\n",
    "TICKS = \"ticks\"\n",
    "MIN_NOTE_INITIALIZER = 10000\n",
    "MAX_NOTE_INITIALIZER = 0\n",
    "MAX_TICK_INITIALIZER = 0\n",
    "MELODY_LOWEST_NOTE = 60"
   ]
  },
  {
   "cell_type": "code",
   "execution_count": 6,
   "metadata": {
    "collapsed": false
   },
   "outputs": [
    {
     "name": "stdout",
     "output_type": "stream",
     "text": [
      "Number of ticks:256\tMax_Note:59\tMin_Note:48\n",
      "Number of ticks:256\tMax_Note:83\tMin_Note:60\n"
     ]
    }
   ],
   "source": [
    "chord_roll = PianoRoll(train_chord_path, res_factor=res_factor)\n",
    "melody_roll = PianoRoll(train_melody_path, res_factor=res_factor)\n",
    "chord_roll_test = PianoRoll(test_chord_path, res_factor=res_factor)\n",
    "print(\"Number of ticks:{}\\tMax_Note:{}\\tMin_Note:{}\".format(chord_roll.ticks,\n",
    "                                                            chord_roll.max_note,\n",
    "                                                            chord_roll.min_note))\n",
    "print(\"Number of ticks:{}\\tMax_Note:{}\\tMin_Note:{}\".format(melody_roll.ticks,\n",
    "                                                            melody_roll.max_note,\n",
    "                                                            melody_roll.min_note))"
   ]
  },
  {
   "cell_type": "code",
   "execution_count": 7,
   "metadata": {
    "collapsed": false
   },
   "outputs": [
    {
     "name": "stdout",
     "output_type": "stream",
     "text": [
      "(68, 256, 13)\n"
     ]
    }
   ],
   "source": [
    "X_roll = chord_roll.chord2roll_wrapper(train_chord_path, \n",
    "                              chord_roll.ticks, \n",
    "                              chord_roll.min_note,\n",
    "                              chord_roll.max_note - chord_roll.min_note + 2,\n",
    "                              res_factor = chord_roll.res_factor)\n",
    "print(X_roll.shape)"
   ]
  },
  {
   "cell_type": "code",
   "execution_count": 8,
   "metadata": {
    "collapsed": false
   },
   "outputs": [
    {
     "name": "stdout",
     "output_type": "stream",
     "text": [
      "(68, 256, 25)\n",
      "{0: 1080, 61: 360, 62: 16, 63: 471, 64: 92, 65: 899, 66: 1517, 67: 126, 68: 2376, 69: 48, 70: 2075, 71: 952, 72: 1398, 73: 1872, 74: 84, 75: 1782, 76: 30, 77: 761, 78: 565, 79: 178, 80: 543, 82: 129, 83: 22, 84: 32}\n"
     ]
    }
   ],
   "source": [
    "y_roll, stats = melody_roll.melody2roll_wrapper(train_melody_path,\n",
    "                                          melody_roll.ticks,\n",
    "                                          melody_roll.min_note,\n",
    "                                          melody_roll.max_note - melody_roll.min_note + 2,\n",
    "                                          res_factor = melody_roll.res_factor)\n",
    "print(y_roll.shape)\n",
    "print(stats)"
   ]
  },
  {
   "cell_type": "code",
   "execution_count": 9,
   "metadata": {
    "collapsed": false
   },
   "outputs": [
    {
     "name": "stdout",
     "output_type": "stream",
     "text": [
      "('Train Data:', (17408, 256, 13))\n",
      "('Train Target:', (17408, 25))\n"
     ]
    }
   ],
   "source": [
    "X_double_roll = np.tile(X_roll, (1, 2, 1))\n",
    "y_double_roll = np.tile(y_roll, (1, 2, 1))\n",
    "X_train,y_train = chord_roll.createNetInputs(X_double_roll, y_double_roll, seq_length=chord_roll.ticks)\n",
    "print(\"Train Data:\", X_train.shape)\n",
    "print(\"Train Target:\", y_train.shape)"
   ]
  },
  {
   "cell_type": "code",
   "execution_count": 10,
   "metadata": {
    "collapsed": false
   },
   "outputs": [
    {
     "name": "stdout",
     "output_type": "stream",
     "text": [
      "Enter the number of units in hidden layer#1\t25\n",
      "____________________________________________________________________________________________________\n",
      "Layer (type)                     Output Shape          Param #     Connected to                     \n",
      "====================================================================================================\n",
      "lstm_1 (LSTM)                    (None, None, 25)      3900        lstm_input_1[0][0]               \n",
      "____________________________________________________________________________________________________\n",
      "lstm_2 (LSTM)                    (None, 25)            5100        lstm_1[0][0]                     \n",
      "====================================================================================================\n",
      "Total params: 9000\n",
      "____________________________________________________________________________________________________\n",
      "None\n"
     ]
    }
   ],
   "source": [
    "D = X_train.shape[2] #Number of input dimensions\n",
    "C = y_train.shape[1] #Number of classes\n",
    "run_name = \"{}layer_{}epoch\".format(num_layers, num_epochs)\n",
    "model = Sequential()\n",
    "# reg_W = WeightRegularizer(l1=0.01, l2=0.)\n",
    "# reg_U = WeightRegularizer(l1=0.01, l2=0.)\n",
    "# reg_b = WeightRegularizer(l1=0.01, l2=0.)\n",
    "if num_layers <= 1:\n",
    "    model.add(LSTM(input_dim = D, \n",
    "                   output_dim=C, \n",
    "                   activation=activ_func,\n",
    "#                    W_regularizer = reg_W,\n",
    "#                    U_regularizer = reg_U,\n",
    "#                    b_regularizer = reg_b,\n",
    "                   dropout_W = dropout_W,\n",
    "                   dropout_U = dropout_U,\n",
    "                   return_sequences=False))\n",
    "else:\n",
    "    layer_dims = int(input(\"Enter the number of units in hidden layer#{}\\t\".format(1)))\n",
    "    run_name = run_name + \"_\" + str(layer_dims)\n",
    "    model.add(LSTM(input_dim = D, \n",
    "                   output_dim=layer_dims, \n",
    "                   activation=activ_func,\n",
    "#                     W_regularizer = reg_W,\n",
    "#                    U_regularizer = reg_U,\n",
    "#                    b_regularizer = reg_b,\n",
    "                   dropout_W = dropout_W,\n",
    "                   dropout_U = dropout_U,\n",
    "                   return_sequences=True))\n",
    "    for layer_id in range(2, num_layers):\n",
    "        layer_dims = int(input(\"Enter the number of units in the hidden layer#{}\\t\".format(layer_id)))\n",
    "        run_name = run_name + \"_\" + str(layer_dims)\n",
    "        reg_W = WeightRegularizer(l1=0.01, l2=0.)\n",
    "        reg_U = WeightRegularizer(l1=0.01, l2=0.)\n",
    "        reg_b = WeightRegularizer(l1=0.01, l2=0.)\n",
    "        model.add(LSTM(output_dim=layer_dims, \n",
    "#                        activation=activ_func,\n",
    "#                        W_regularizer = reg_W,\n",
    "#                        U_regularizer = reg_U,\n",
    "#                        b_regularizer = reg_b,\n",
    "                       dropout_W = dropout_W,\n",
    "                       dropout_U = dropout_U,\n",
    "                       return_sequences=True))\n",
    "    reg_W = WeightRegularizer(l1=0.01, l2=0.)\n",
    "    reg_U = WeightRegularizer(l1=0.01, l2=0.)\n",
    "    reg_b = WeightRegularizer(l1=0.01, l2=0.)\n",
    "    model.add(LSTM(output_dim=C, \n",
    "                   activation=activ_func,\n",
    "#                    W_regularizer = reg_W,\n",
    "#                    U_regularizer = reg_U,\n",
    "#                    b_regularizer = reg_b,\n",
    "                   dropout_W = dropout_W,\n",
    "                   dropout_U = dropout_U,\n",
    "                   return_sequences=False))\n",
    "print(model.summary())\n",
    "# print(model.get_config())"
   ]
  },
  {
   "cell_type": "code",
   "execution_count": 11,
   "metadata": {
    "collapsed": true
   },
   "outputs": [],
   "source": [
    "if optimizer == \"adam\":\n",
    "    opt_func = Adam(lr=le_rate, beta_1=0.9, beta_2=0.999, epsilon=1e-08, decay=0.0)\n",
    "model.compile(loss=loss_function, metrics=[\"accuracy\"], optimizer=optimizer)"
   ]
  },
  {
   "cell_type": "code",
   "execution_count": 12,
   "metadata": {
    "collapsed": false
   },
   "outputs": [],
   "source": [
    "# #Uncomment only if you load a checkpoint and continue training where you left off\n",
    "# weights_files = listdir(weights_dir)\n",
    "# print(\"Choose a file for the weights:\")\n",
    "# print(\"---------------------------------------\")\n",
    "# for i, file in enumerate(weights_files):\n",
    "#     print(str(i) + \" : \" + file)\n",
    "# print(\"---------------------------------------\")\n",
    "# file_index = input(\"Enter the file index of the weights that you want\")\n",
    "# weights_path = weights_dir + weights_files[file_index]\n",
    "# print(\"Loading weights from \", weights_path)\n",
    "# model.load_weights(weights_path)"
   ]
  },
  {
   "cell_type": "markdown",
   "metadata": {},
   "source": [
    "## Note: Theano takes a long time to compile"
   ]
  },
  {
   "cell_type": "code",
   "execution_count": 13,
   "metadata": {
    "collapsed": false
   },
   "outputs": [
    {
     "name": "stdout",
     "output_type": "stream",
     "text": [
      "('Checkpoint Path', '/Users/arulselvanmadhavan/cs6140-machine-learning/Keras_projects/LSTM-RNN-Melody-Composer/models/lstm/checkpoints/weights/ckpt_2layer_100epoch_25_{epoch:02d}-{acc:.2f}.hdf5')\n",
      "Train on 15667 samples, validate on 1741 samples\n",
      "Epoch 1/100\n",
      "15667/15667 [==============================] - 88s - loss: 2.7755 - acc: 0.1159 - val_loss: 2.6892 - val_acc: 0.1057\n",
      "Epoch 2/100\n",
      "15667/15667 [==============================] - 89s - loss: 2.6142 - acc: 0.1420 - val_loss: 2.6765 - val_acc: 0.1057\n",
      "Epoch 3/100\n",
      "15667/15667 [==============================] - 96s - loss: 2.5643 - acc: 0.1416 - val_loss: 2.6336 - val_acc: 0.1057\n",
      "Epoch 4/100\n",
      "15667/15667 [==============================] - 93s - loss: 2.5270 - acc: 0.1460 - val_loss: 2.6310 - val_acc: 0.1057\n",
      "Epoch 5/100\n",
      "15667/15667 [==============================] - 90s - loss: 2.4967 - acc: 0.1684 - val_loss: 2.6730 - val_acc: 0.1034\n",
      "Epoch 6/100\n",
      "15667/15667 [==============================] - 96s - loss: 2.4587 - acc: 0.1982 - val_loss: 2.6401 - val_acc: 0.1045\n",
      "Epoch 7/100\n",
      "15667/15667 [==============================] - 96s - loss: 2.4293 - acc: 0.2059 - val_loss: 2.6758 - val_acc: 0.1068\n",
      "Epoch 8/100\n",
      "15667/15667 [==============================] - 94s - loss: 2.4035 - acc: 0.2059 - val_loss: 2.6199 - val_acc: 0.1086\n",
      "Epoch 9/100\n",
      "15667/15667 [==============================] - 92s - loss: 2.3850 - acc: 0.2117 - val_loss: 2.6092 - val_acc: 0.1091\n",
      "Epoch 10/100\n",
      "15667/15667 [==============================] - 97s - loss: 2.3709 - acc: 0.2165 - val_loss: 2.6551 - val_acc: 0.1126\n",
      "Epoch 11/100\n",
      "15667/15667 [==============================] - 112s - loss: 2.3569 - acc: 0.2277 - val_loss: 2.6880 - val_acc: 0.1132\n",
      "Epoch 12/100\n",
      "15667/15667 [==============================] - 106s - loss: 2.3425 - acc: 0.2358 - val_loss: 2.6468 - val_acc: 0.1132\n",
      "Epoch 13/100\n",
      "15667/15667 [==============================] - 105s - loss: 2.3344 - acc: 0.2418 - val_loss: 2.6790 - val_acc: 0.1137\n",
      "Epoch 14/100\n",
      "15667/15667 [==============================] - 127s - loss: 2.3424 - acc: 0.2439 - val_loss: 2.6693 - val_acc: 0.1114\n",
      "Epoch 15/100\n",
      "15667/15667 [==============================] - 107s - loss: 2.3272 - acc: 0.2503 - val_loss: 2.6359 - val_acc: 0.1132\n",
      "Epoch 16/100\n",
      "15667/15667 [==============================] - 103s - loss: 2.3136 - acc: 0.2520 - val_loss: 2.6685 - val_acc: 0.1120\n",
      "Epoch 17/100\n",
      "15667/15667 [==============================] - 107s - loss: 2.3009 - acc: 0.2524 - val_loss: 2.6747 - val_acc: 0.1132\n",
      "Epoch 18/100\n",
      "15667/15667 [==============================] - 100s - loss: 2.3068 - acc: 0.2545 - val_loss: 2.6680 - val_acc: 0.1143\n",
      "Epoch 19/100\n",
      "15667/15667 [==============================] - 110s - loss: 2.2966 - acc: 0.2499 - val_loss: 2.6621 - val_acc: 0.1143\n",
      "Epoch 20/100\n",
      "15667/15667 [==============================] - 97s - loss: 2.2804 - acc: 0.2560 - val_loss: 2.6627 - val_acc: 0.1143\n",
      "Epoch 21/100\n",
      "15667/15667 [==============================] - 97s - loss: 2.2785 - acc: 0.2616 - val_loss: 2.6425 - val_acc: 0.1143\n",
      "Epoch 22/100\n",
      "15667/15667 [==============================] - 96s - loss: 2.2943 - acc: 0.2564 - val_loss: 2.7008 - val_acc: 0.1177\n",
      "Epoch 23/100\n",
      "15667/15667 [==============================] - 105s - loss: 2.2800 - acc: 0.2545 - val_loss: 2.7069 - val_acc: 0.1166\n",
      "Epoch 24/100\n",
      "15667/15667 [==============================] - 98s - loss: 2.2769 - acc: 0.2556 - val_loss: 2.6695 - val_acc: 0.1183\n",
      "Epoch 25/100\n",
      "15667/15667 [==============================] - 96s - loss: 2.2573 - acc: 0.2608 - val_loss: 2.6709 - val_acc: 0.1137\n",
      "Epoch 26/100\n",
      "15667/15667 [==============================] - 99s - loss: 2.2490 - acc: 0.2617 - val_loss: 2.6938 - val_acc: 0.1160\n",
      "Epoch 27/100\n",
      "15667/15667 [==============================] - 115s - loss: 2.2386 - acc: 0.2630 - val_loss: 2.7054 - val_acc: 0.1143\n",
      "Epoch 28/100\n",
      "15667/15667 [==============================] - 124s - loss: 2.2300 - acc: 0.2661 - val_loss: 2.6866 - val_acc: 0.1132\n",
      "Epoch 29/100\n",
      "15667/15667 [==============================] - 123s - loss: 2.2313 - acc: 0.2643 - val_loss: 2.6905 - val_acc: 0.1155\n",
      "Epoch 30/100\n",
      "15667/15667 [==============================] - 109s - loss: 2.2350 - acc: 0.2652 - val_loss: 2.6833 - val_acc: 0.1080\n",
      "Epoch 31/100\n",
      "15667/15667 [==============================] - 106s - loss: 2.2165 - acc: 0.2686 - val_loss: 2.6915 - val_acc: 0.1143\n",
      "Epoch 32/100\n",
      "15667/15667 [==============================] - 113s - loss: 2.2051 - acc: 0.2683 - val_loss: 2.7024 - val_acc: 0.1126\n",
      "Epoch 33/100\n",
      "15667/15667 [==============================] - 140s - loss: 2.2038 - acc: 0.2730 - val_loss: 2.7077 - val_acc: 0.1137\n",
      "Epoch 34/100\n",
      "15667/15667 [==============================] - 135s - loss: 2.2026 - acc: 0.2706 - val_loss: 2.7100 - val_acc: 0.1126\n",
      "Epoch 35/100\n",
      "15667/15667 [==============================] - 105s - loss: 2.1896 - acc: 0.2748 - val_loss: 2.7107 - val_acc: 0.1132\n",
      "Epoch 36/100\n",
      "15667/15667 [==============================] - 102s - loss: 2.1849 - acc: 0.2755 - val_loss: 2.7197 - val_acc: 0.1114\n",
      "Epoch 37/100\n",
      "15667/15667 [==============================] - 109s - loss: 2.1825 - acc: 0.2735 - val_loss: 2.7335 - val_acc: 0.1120\n",
      "Epoch 38/100\n",
      "15667/15667 [==============================] - 105s - loss: 2.1671 - acc: 0.2720 - val_loss: 2.7096 - val_acc: 0.1109\n",
      "Epoch 39/100\n",
      "15667/15667 [==============================] - 102s - loss: 2.1649 - acc: 0.2759 - val_loss: 2.7201 - val_acc: 0.1097\n",
      "Epoch 40/100\n",
      "15667/15667 [==============================] - 106s - loss: 2.1738 - acc: 0.2788 - val_loss: 2.7334 - val_acc: 0.1109\n",
      "Epoch 41/100\n",
      "15667/15667 [==============================] - 96s - loss: 2.1644 - acc: 0.2772 - val_loss: 2.7308 - val_acc: 0.1114\n",
      "Epoch 42/100\n",
      "15667/15667 [==============================] - 109s - loss: 2.1613 - acc: 0.2771 - val_loss: 2.7411 - val_acc: 0.1114\n",
      "Epoch 43/100\n",
      "15667/15667 [==============================] - 94s - loss: 2.1543 - acc: 0.2758 - val_loss: 2.7411 - val_acc: 0.1114\n",
      "Epoch 44/100\n",
      "15667/15667 [==============================] - 100s - loss: 2.1508 - acc: 0.2792 - val_loss: 2.7316 - val_acc: 0.1103\n",
      "Epoch 45/100\n",
      "15667/15667 [==============================] - 109s - loss: 2.1661 - acc: 0.2803 - val_loss: 2.7386 - val_acc: 0.1103\n",
      "Epoch 46/100\n",
      "15667/15667 [==============================] - 107s - loss: 2.1420 - acc: 0.2800 - val_loss: 2.8181 - val_acc: 0.1045\n",
      "Epoch 47/100\n",
      "15667/15667 [==============================] - 103s - loss: 2.1333 - acc: 0.2818 - val_loss: 2.8253 - val_acc: 0.1120\n",
      "Epoch 48/100\n",
      "15667/15667 [==============================] - 108s - loss: 2.1297 - acc: 0.2867 - val_loss: 2.8350 - val_acc: 0.1103\n",
      "Epoch 49/100\n",
      "15667/15667 [==============================] - 101s - loss: 2.1324 - acc: 0.2844 - val_loss: 2.7600 - val_acc: 0.1097\n",
      "Epoch 50/100\n",
      "15667/15667 [==============================] - 101s - loss: 2.1391 - acc: 0.2770 - val_loss: 2.7990 - val_acc: 0.1086\n",
      "Epoch 51/100\n",
      "15667/15667 [==============================] - 104s - loss: 2.1131 - acc: 0.2823 - val_loss: 2.8609 - val_acc: 0.1051\n",
      "Epoch 52/100\n",
      "15667/15667 [==============================] - 108s - loss: 2.1234 - acc: 0.2890 - val_loss: 2.8386 - val_acc: 0.1045\n",
      "Epoch 53/100\n",
      "15667/15667 [==============================] - 106s - loss: 2.1096 - acc: 0.2852 - val_loss: 2.8445 - val_acc: 0.1034\n",
      "Epoch 54/100\n",
      "15667/15667 [==============================] - 101s - loss: 2.1052 - acc: 0.2865 - val_loss: 2.8578 - val_acc: 0.1040\n",
      "Epoch 55/100\n",
      "15667/15667 [==============================] - 103s - loss: 2.1110 - acc: 0.2856 - val_loss: 2.8608 - val_acc: 0.1086\n",
      "Epoch 56/100\n",
      "15667/15667 [==============================] - 110s - loss: 2.1003 - acc: 0.2898 - val_loss: 2.8407 - val_acc: 0.1045\n",
      "Epoch 57/100\n",
      "15667/15667 [==============================] - 107s - loss: 2.1180 - acc: 0.2907 - val_loss: 2.8282 - val_acc: 0.1120\n",
      "Epoch 58/100\n",
      "15667/15667 [==============================] - 115s - loss: 2.1067 - acc: 0.2895 - val_loss: 2.6797 - val_acc: 0.1120\n",
      "Epoch 59/100\n",
      "15667/15667 [==============================] - 119s - loss: 2.0908 - acc: 0.2880 - val_loss: 2.7472 - val_acc: 0.1057\n",
      "Epoch 60/100\n",
      "15667/15667 [==============================] - 124s - loss: 2.0916 - acc: 0.2905 - val_loss: 2.8635 - val_acc: 0.1057\n",
      "Epoch 61/100\n",
      "15667/15667 [==============================] - 119s - loss: 2.0971 - acc: 0.2934 - val_loss: 2.7552 - val_acc: 0.1114\n",
      "Epoch 62/100\n",
      "15667/15667 [==============================] - 110s - loss: 2.0842 - acc: 0.2971 - val_loss: 2.8637 - val_acc: 0.1097\n",
      "Epoch 63/100\n",
      "15667/15667 [==============================] - 119s - loss: 2.0839 - acc: 0.2948 - val_loss: 2.8743 - val_acc: 0.1086\n",
      "Epoch 64/100\n",
      "15667/15667 [==============================] - 113s - loss: 2.0756 - acc: 0.2962 - val_loss: 2.9143 - val_acc: 0.1465\n",
      "Epoch 65/100\n",
      "15667/15667 [==============================] - 113s - loss: 2.0716 - acc: 0.2978 - val_loss: 2.8742 - val_acc: 0.1407\n",
      "Epoch 66/100\n",
      "15667/15667 [==============================] - 115s - loss: 2.0957 - acc: 0.2942 - val_loss: 2.8847 - val_acc: 0.1327\n",
      "Epoch 67/100\n",
      "15667/15667 [==============================] - 118s - loss: 2.0697 - acc: 0.2956 - val_loss: 2.8845 - val_acc: 0.1132\n",
      "Epoch 68/100\n",
      "15667/15667 [==============================] - 115s - loss: 2.0789 - acc: 0.2976 - val_loss: 2.9056 - val_acc: 0.1218\n",
      "Epoch 69/100\n",
      "15667/15667 [==============================] - 108s - loss: 2.0733 - acc: 0.2938 - val_loss: 2.9983 - val_acc: 0.1786\n",
      "Epoch 70/100\n",
      "15667/15667 [==============================] - 105s - loss: 2.0690 - acc: 0.2983 - val_loss: 2.9222 - val_acc: 0.1574\n",
      "Epoch 71/100\n",
      "15667/15667 [==============================] - 107s - loss: 2.0515 - acc: 0.3000 - val_loss: 2.9732 - val_acc: 0.1459\n",
      "Epoch 72/100\n",
      "15667/15667 [==============================] - 119s - loss: 2.0557 - acc: 0.2978 - val_loss: 2.9696 - val_acc: 0.1367\n",
      "Epoch 73/100\n",
      "15667/15667 [==============================] - 124s - loss: 2.0594 - acc: 0.2992 - val_loss: 2.9815 - val_acc: 0.1172\n",
      "Epoch 74/100\n",
      "15667/15667 [==============================] - 111s - loss: 2.0498 - acc: 0.2989 - val_loss: 2.9828 - val_acc: 0.1235\n",
      "Epoch 75/100\n",
      "15667/15667 [==============================] - 106s - loss: 2.0529 - acc: 0.3017 - val_loss: 2.8908 - val_acc: 0.1310\n",
      "Epoch 76/100\n",
      "15667/15667 [==============================] - 98s - loss: 2.0533 - acc: 0.3056 - val_loss: 2.8571 - val_acc: 0.1166\n",
      "Epoch 77/100\n",
      "15667/15667 [==============================] - 99s - loss: 2.0460 - acc: 0.3004 - val_loss: 2.9925 - val_acc: 0.1338\n",
      "Epoch 78/100\n",
      "15667/15667 [==============================] - 101s - loss: 2.0435 - acc: 0.3044 - val_loss: 3.0069 - val_acc: 0.1827\n",
      "Epoch 79/100\n",
      "15667/15667 [==============================] - 102s - loss: 2.0389 - acc: 0.3056 - val_loss: 2.9884 - val_acc: 0.1338\n",
      "Epoch 80/100\n",
      "15667/15667 [==============================] - 96s - loss: 2.0383 - acc: 0.3014 - val_loss: 3.2530 - val_acc: 0.0890\n",
      "Epoch 81/100\n",
      "15667/15667 [==============================] - 101s - loss: 2.0817 - acc: 0.2998 - val_loss: 3.2128 - val_acc: 0.1057\n",
      "Epoch 82/100\n",
      "15667/15667 [==============================] - 93s - loss: 2.0433 - acc: 0.3013 - val_loss: 3.2520 - val_acc: 0.1241\n",
      "Epoch 83/100\n",
      "15667/15667 [==============================] - 98s - loss: 2.0292 - acc: 0.3071 - val_loss: 3.0560 - val_acc: 0.1390\n",
      "Epoch 84/100\n",
      "15667/15667 [==============================] - 103s - loss: 2.0368 - acc: 0.3078 - val_loss: 3.0351 - val_acc: 0.1424\n",
      "Epoch 85/100\n",
      "15667/15667 [==============================] - 106s - loss: 2.0335 - acc: 0.3094 - val_loss: 3.1280 - val_acc: 0.1390\n",
      "Epoch 86/100\n",
      "15667/15667 [==============================] - 101s - loss: 2.0380 - acc: 0.3038 - val_loss: 3.0328 - val_acc: 0.1298\n",
      "Epoch 87/100\n",
      "15667/15667 [==============================] - 96s - loss: 2.0406 - acc: 0.3077 - val_loss: 3.0833 - val_acc: 0.1453\n",
      "Epoch 88/100\n",
      "15667/15667 [==============================] - 99s - loss: 2.0291 - acc: 0.3088 - val_loss: 3.1119 - val_acc: 0.1689\n",
      "Epoch 89/100\n",
      "15667/15667 [==============================] - 100s - loss: 2.0319 - acc: 0.3096 - val_loss: 3.0461 - val_acc: 0.1557\n",
      "Epoch 90/100\n",
      "15667/15667 [==============================] - 101s - loss: 2.0355 - acc: 0.3113 - val_loss: 2.8996 - val_acc: 0.1344\n",
      "Epoch 91/100\n",
      "15667/15667 [==============================] - 94s - loss: 2.0286 - acc: 0.3113 - val_loss: 3.0104 - val_acc: 0.1648\n",
      "Epoch 92/100\n",
      "15667/15667 [==============================] - 92s - loss: 2.0084 - acc: 0.3137 - val_loss: 3.1282 - val_acc: 0.1763\n",
      "Epoch 93/100\n",
      "15667/15667 [==============================] - 98s - loss: 2.0142 - acc: 0.3129 - val_loss: 3.1239 - val_acc: 0.1591\n",
      "Epoch 94/100\n",
      "15667/15667 [==============================] - 94s - loss: 2.0358 - acc: 0.3105 - val_loss: 3.0645 - val_acc: 0.1562\n",
      "Epoch 95/100\n",
      "15667/15667 [==============================] - 98s - loss: 2.0208 - acc: 0.3137 - val_loss: 3.0637 - val_acc: 0.1522\n",
      "Epoch 96/100\n",
      "15667/15667 [==============================] - 110s - loss: 2.0101 - acc: 0.3131 - val_loss: 3.1120 - val_acc: 0.1700\n",
      "Epoch 97/100\n",
      "15667/15667 [==============================] - 107s - loss: 2.0091 - acc: 0.3172 - val_loss: 3.0361 - val_acc: 0.1740\n",
      "Epoch 98/100\n",
      "15667/15667 [==============================] - 113s - loss: 2.0056 - acc: 0.3153 - val_loss: 3.0393 - val_acc: 0.1786\n",
      "Epoch 99/100\n",
      "15667/15667 [==============================] - 99s - loss: 2.0059 - acc: 0.3149 - val_loss: 3.1016 - val_acc: 0.1631\n",
      "Epoch 100/100\n",
      "15667/15667 [==============================] - 111s - loss: 2.0023 - acc: 0.3193 - val_loss: 3.2451 - val_acc: 0.1809\n"
     ]
    },
    {
     "data": {
      "text/plain": [
       "<keras.callbacks.History at 0x12a7f18d0>"
      ]
     },
     "execution_count": 13,
     "metadata": {},
     "output_type": "execute_result"
    }
   ],
   "source": [
    "history = Metrics()\n",
    "filepath = weights_dir+\"ckpt_\" + run_name + \"_{epoch:02d}-{acc:.2f}.hdf5\"\n",
    "print(\"Checkpoint Path\", filepath)\n",
    "ckpt = ModelCheckpoint(filepath, monitor='acc', verbose=0, save_best_only=True, save_weights_only=False, mode='max')\n",
    "model.fit(X_train, y_train, \n",
    "          batch_size=batch_size, \n",
    "          nb_epoch=num_epochs, \n",
    "          callbacks=[history, ckpt], \n",
    "          validation_split=validation_split)"
   ]
  },
  {
   "cell_type": "code",
   "execution_count": 14,
   "metadata": {
    "collapsed": false
   },
   "outputs": [],
   "source": [
    "#Create Checkpoints\n",
    "weights_file = \"{}layer_{}epochs_{}\".format(num_layers, num_epochs, time.strftime(\"%Y%m%d_%H_%M.h5\"))\n",
    "model.save_weights(weights_dir + weights_file)\n",
    "model_file = \"{}layer_{}epochs_{}\".format(num_layers, num_epochs, time.strftime(\"%Y%m%d_%H_%M.json\"))\n",
    "with open(model_dir + model_file, \"w\") as model_file_writer:\n",
    "    model_file_writer.write(model.to_json())"
   ]
  },
  {
   "cell_type": "code",
   "execution_count": 15,
   "metadata": {
    "collapsed": false
   },
   "outputs": [],
   "source": [
    "stats_file = \"{}layer_{}epochs_{}\".format(num_layers, num_epochs, time.strftime(\"%Y%m%d_%H_%M.npy\"))\n",
    "np.save(stats_dir+stats_file, np.array(history.stats))"
   ]
  },
  {
   "cell_type": "markdown",
   "metadata": {},
   "source": [
    "# Visualize the stats"
   ]
  },
  {
   "cell_type": "code",
   "execution_count": 16,
   "metadata": {
    "collapsed": false
   },
   "outputs": [
    {
     "data": {
      "image/png": "[encoded data removed]",
      "text/plain": [
       "<matplotlib.figure.Figure at 0x148a9e250>"
      ]
     },
     "metadata": {},
     "output_type": "display_data"
    }
   ],
   "source": [
    "title = \"lstm_{}layer_{}epochs\".format(num_layers, num_epochs)\n",
    "results_file = title + \"_\" + time.strftime(\"%Y%m%d_%H_%M.jpg\")\n",
    "Utils.visualize_stats(history.stats, results_dir + results_file, title)"
   ]
  },
  {
   "cell_type": "code",
   "execution_count": null,
   "metadata": {
    "collapsed": true
   },
   "outputs": [],
   "source": []
  }
 ],
 "metadata": {
  "anaconda-cloud": {},
  "kernelspec": {
   "display_name": "Python [conda env:py27]",
   "language": "python",
   "name": "conda-env-py27-py"
  },
  "language_info": {
   "codemirror_mode": {
    "name": "ipython",
    "version": 2
   },
   "file_extension": ".py",
   "mimetype": "text/x-python",
   "name": "python",
   "nbconvert_exporter": "python",
   "pygments_lexer": "ipython2",
   "version": "2.7.12"
  }
 },
 "nbformat": 4,
 "nbformat_minor": 1
}

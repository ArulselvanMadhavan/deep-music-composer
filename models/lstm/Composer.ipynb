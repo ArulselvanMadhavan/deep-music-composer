{
 "cells": [
  {
   "cell_type": "code",
   "execution_count": null,
   "metadata": {
    "collapsed": false
   },
   "outputs": [],
   "source": [
    "import numpy as np\n",
    "import matplotlib.pyplot as plt\n",
    "import os\n",
    "import time\n",
    "import sys\n",
    "import glob\n",
    "from os import listdir\n",
    "%matplotlib inline\n",
    "plt.rcParams['figure.figsize'] = (10.0, 8.0)\n",
    "plt.rcParams['image.interpolation'] = 'nearest'\n",
    "plt.rcParams['image.cmap'] = 'gray'\n",
    "%load_ext autoreload\n",
    "%autoreload 2"
   ]
  },
  {
   "cell_type": "code",
   "execution_count": null,
   "metadata": {
    "collapsed": false
   },
   "outputs": [],
   "source": [
    "#Keras Imports\n",
    "from keras.models import model_from_json\n",
    "from keras.models import Sequential\n",
    "from keras.layers.recurrent import LSTM"
   ]
  },
  {
   "cell_type": "code",
   "execution_count": null,
   "metadata": {
    "collapsed": false
   },
   "outputs": [],
   "source": [
    "#PianoRoll\n",
    "sys.path.append(os.getcwd()+\"/../../PianoRoll/\")\n",
    "sys.path.append(os.getcwd()+\"/../../\")\n",
    "from PianoRoll import PianoRoll\n",
    "from Utils import Utils\n",
    "from metrics import Metrics"
   ]
  },
  {
   "cell_type": "code",
   "execution_count": null,
   "metadata": {
    "collapsed": true
   },
   "outputs": [],
   "source": [
    "res_factor = 12\n",
    "note_threshold = 0.1\n",
    "#Composer paths\n",
    "chord_dir = os.getcwd() + \"/../../data/testData/chords/\"\n",
    "composition_dir = os.getcwd() + \"/compositions/\"\n",
    "#Checkpoint paths\n",
    "model_dir = os.getcwd() + \"/checkpoints/model/\"\n",
    "weights_dir = os.getcwd() + \"/checkpoints/weights/\"\n",
    "\n",
    "#Other constants\n",
    "MIDI_FILE_EXTENSION = \"mid\"\n",
    "NOTE_ON = \"note_on\"\n",
    "NOTE_OFF = \"note_off\"\n",
    "MAX_NOTE = \"max_note\"\n",
    "MIN_NOTE = \"min_note\"\n",
    "TICKS = \"ticks\"\n",
    "MIN_NOTE_INITIALIZER = 10000\n",
    "MAX_NOTE_INITIALIZER = 0\n",
    "MAX_TICK_INITIALIZER = 0\n",
    "MELODY_LOWEST_NOTE = 60"
   ]
  },
  {
   "cell_type": "code",
   "execution_count": null,
   "metadata": {
    "collapsed": false
   },
   "outputs": [],
   "source": [
    "chord_files = glob.glob(\"%s*.mid\" %(chord_dir))\n",
    "composition_files = []\n",
    "for i in range(len(chord_files)):\n",
    "    composition_files.append(composition_dir + 'generated_%d.mid' %(i+1))\n",
    "print(chord_files, composition_files)"
   ]
  },
  {
   "cell_type": "code",
   "execution_count": null,
   "metadata": {
    "collapsed": false
   },
   "outputs": [],
   "source": [
    "chord_roll = PianoRoll(chord_dir, res_factor=res_factor)\n",
    "print(\"# of Ticks:{}\\tMax_Note:{}\\tMin_Note:{}\".format(chord_roll.ticks,\n",
    "                                                  chord_roll.max_note,\n",
    "                                                  chord_roll.min_note))"
   ]
  },
  {
   "cell_type": "code",
   "execution_count": null,
   "metadata": {
    "collapsed": false
   },
   "outputs": [],
   "source": [
    "X_roll = chord_roll.chord2roll_wrapper(chord_dir, \n",
    "                              chord_roll.ticks, \n",
    "                              chord_roll.min_note,\n",
    "                              chord_roll.max_note - chord_roll.min_note + 2,\n",
    "                              chord_roll.res_factor)\n",
    "print(X_roll.shape)"
   ]
  },
  {
   "cell_type": "code",
   "execution_count": null,
   "metadata": {
    "collapsed": false
   },
   "outputs": [],
   "source": [
    "X_double_roll = np.tile(X_roll, (1, 2, 1))\n",
    "X_test = chord_roll.create_test_inputs(X_double_roll, seq_length=chord_roll.ticks)\n",
    "print(\"Test Data:\", X_test.shape)"
   ]
  },
  {
   "cell_type": "code",
   "execution_count": null,
   "metadata": {
    "collapsed": false
   },
   "outputs": [],
   "source": [
    "# chord_test_data = chord_test_roll.generate_piano_roll_func()\n",
    "# X_test = PianoRoll.generate_test_samples(chord_test_data, chord_test_roll.ticks)\n",
    "# print(chord_test_data.shape, X_test.shape)"
   ]
  },
  {
   "cell_type": "code",
   "execution_count": null,
   "metadata": {
    "collapsed": false
   },
   "outputs": [],
   "source": [
    "#Load Model\n",
    "model_files = listdir(model_dir)\n",
    "print(\"Choose a file for the model:\")\n",
    "print(\"---------------------------------------\")\n",
    "for i, file in enumerate(model_files):\n",
    "    print(str(i) + \" : \" + file)\n",
    "print(\"---------------------------------------\")\n",
    "file_index = input(\"Enter the index of the file model that you want:\\t\")\n",
    "model_path = model_dir + model_files[file_index]\n",
    "print(\"Loading model from {}\".format(model_path))\n",
    "model = model_from_json(open(model_path).read())"
   ]
  },
  {
   "cell_type": "code",
   "execution_count": null,
   "metadata": {
    "collapsed": false
   },
   "outputs": [],
   "source": [
    "#Load Weights\n",
    "weights_files = listdir(weights_dir)\n",
    "print(\"Choose a file for the weights:\")\n",
    "print(\"---------------------------------------\")\n",
    "for i, file in enumerate(weights_files):\n",
    "    print(str(i) + \" : \" + file)\n",
    "print(\"---------------------------------------\")\n",
    "file_index = input(\"Enter the file index of the weights that you want\")\n",
    "weights_path = weights_dir + weights_files[file_index]\n",
    "print(\"Loading weights from \", weights_path)\n",
    "model.load_weights(weights_path)"
   ]
  },
  {
   "cell_type": "code",
   "execution_count": null,
   "metadata": {
    "collapsed": false
   },
   "outputs": [],
   "source": [
    "model.compile(loss='categorical_crossentropy', optimizer='adam')\n",
    "keys_count = {}\n",
    "for i,song in enumerate(X_test):\n",
    "    net_output = model.predict(song)\n",
    "    keys_count = PianoRoll.roll2midi_wrapper(composition_files[i], net_output, 60, 12, keys_count)\n",
    "#     net_roll = PianoRoll.NetOutToPianoRoll(net_output, threshold=note_threshold)\n",
    "#     PianoRoll.createMidiFromPianoRoll(net_roll, MELODY_LOWEST_NOTE, composition_dir,\n",
    "#                                                composition_files[i], note_threshold, res_factor=res_factor)\n",
    "    print(\"Finished composing song {}.\".format(composition_files[i]))\n",
    "print(\"Piano Key Distribution:{}\".format(keys_count))"
   ]
  },
  {
   "cell_type": "code",
   "execution_count": null,
   "metadata": {
    "collapsed": true
   },
   "outputs": [],
   "source": []
  }
 ],
 "metadata": {
  "anaconda-cloud": {},
  "kernelspec": {
   "display_name": "Python [conda env:py27]",
   "language": "python",
   "name": "conda-env-py27-py"
  },
  "language_info": {
   "codemirror_mode": {
    "name": "ipython",
    "version": 2
   },
   "file_extension": ".py",
   "mimetype": "text/x-python",
   "name": "python",
   "nbconvert_exporter": "python",
   "pygments_lexer": "ipython2",
   "version": "2.7.12"
  }
 },
 "nbformat": 4,
 "nbformat_minor": 1
}

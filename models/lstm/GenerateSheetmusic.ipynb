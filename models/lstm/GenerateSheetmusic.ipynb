{
 "cells": [
  {
   "cell_type": "code",
   "execution_count": 18,
   "metadata": {
    "collapsed": false
   },
   "outputs": [],
   "source": [
    "\n",
    "from unroll import midi2keystrikes\n",
    "keystrikes = midi2keystrikes(\"../../data/trainData/chords/001.mid\")\n",
    "quarter_durations = [50,100,0.02]\n",
    "keystrikes.transcribe('score.ly', quarter_durations=quarter_durations)"
   ]
  },
  {
   "cell_type": "code",
   "execution_count": 20,
   "metadata": {
    "collapsed": false
   },
   "outputs": [
    {
     "data": {
      "text/plain": [
       "32512"
      ]
     },
     "execution_count": 20,
     "metadata": {},
     "output_type": "execute_result"
    }
   ],
   "source": [
    "import os\n",
    "os.system(\"lilypond score.ly\")"
   ]
  },
  {
   "cell_type": "code",
   "execution_count": 4,
   "metadata": {
    "collapsed": false
   },
   "outputs": [
    {
     "name": "stdout",
     "output_type": "stream",
     "text": [
      "['', '//anaconda/envs/py27/lib/python27.zip', '//anaconda/envs/py27/lib/python2.7', '//anaconda/envs/py27/lib/python2.7/plat-darwin', '//anaconda/envs/py27/lib/python2.7/plat-mac', '//anaconda/envs/py27/lib/python2.7/plat-mac/lib-scriptpackages', '//anaconda/envs/py27/lib/python2.7/lib-tk', '//anaconda/envs/py27/lib/python2.7/lib-old', '//anaconda/envs/py27/lib/python2.7/lib-dynload', '//anaconda/envs/py27/lib/python2.7/site-packages', '//anaconda/envs/py27/lib/python2.7/site-packages/Sphinx-1.4.6-py2.7.egg', '//anaconda/envs/py27/lib/python2.7/site-packages/aeosa', '//anaconda/envs/py27/lib/python2.7/site-packages/unroll-0.1.0-py2.7.egg', '//anaconda/envs/py27/lib/python2.7/site-packages/pydot_ng-1.0.1.dev0-py2.7.egg', '//anaconda/envs/py27/lib/python2.7/site-packages/setuptools-27.2.0-py2.7.egg', '//anaconda/envs/py27/lib/python2.7/site-packages/IPython/extensions', '/Users/arulselvanmadhavan/.ipython', '../../LilyPond.app/Contents/Resources/bin/*', '../../LilyPond.app/Contents/Resources/bin/']\n"
     ]
    }
   ],
   "source": [
    "import sys\n",
    "sys.path.append(\"../../LilyPond.app/Contents/Resources/bin/\")\n",
    "print(sys.path)"
   ]
  },
  {
   "cell_type": "code",
   "execution_count": 6,
   "metadata": {
    "collapsed": false
   },
   "outputs": [],
   "source": [
    "import music21"
   ]
  },
  {
   "cell_type": "code",
   "execution_count": 17,
   "metadata": {
    "collapsed": false
   },
   "outputs": [],
   "source": [
    "us = music21.environment.UserSettings()\n",
    "us.getSettingsPath()\n",
    "music21.environment.set(\"lilypondPath\", \"../../LilyPond.app/Contents/Resources/bin/lilypond\")"
   ]
  },
  {
   "cell_type": "code",
   "execution_count": null,
   "metadata": {
    "collapsed": true
   },
   "outputs": [],
   "source": [
    "music21.environment."
   ]
  }
 ],
 "metadata": {
  "kernelspec": {
   "display_name": "Python [conda env:py27]",
   "language": "python",
   "name": "conda-env-py27-py"
  },
  "language_info": {
   "codemirror_mode": {
    "name": "ipython",
    "version": 2
   },
   "file_extension": ".py",
   "mimetype": "text/x-python",
   "name": "python",
   "nbconvert_exporter": "python",
   "pygments_lexer": "ipython2",
   "version": "2.7.12"
  }
 },
 "nbformat": 4,
 "nbformat_minor": 0
}

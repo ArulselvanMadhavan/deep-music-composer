{
 "cells": [
  {
   "cell_type": "code",
   "execution_count": 1,
   "metadata": {
    "collapsed": false
   },
   "outputs": [],
   "source": [
    "import numpy as np\n",
    "import matplotlib.pyplot as plt\n",
    "import os\n",
    "import time\n",
    "import sys\n",
    "import glob\n",
    "from os import listdir\n",
    "%matplotlib inline\n",
    "plt.rcParams['figure.figsize'] = (10.0, 8.0)\n",
    "plt.rcParams['image.interpolation'] = 'nearest'\n",
    "plt.rcParams['image.cmap'] = 'gray'\n",
    "%load_ext autoreload\n",
    "%autoreload 2"
   ]
  },
  {
   "cell_type": "code",
   "execution_count": 2,
   "metadata": {
    "collapsed": false
   },
   "outputs": [
    {
     "name": "stderr",
     "output_type": "stream",
     "text": [
      "Using Theano backend.\n"
     ]
    }
   ],
   "source": [
    "from keras.models import Sequential\n",
    "from keras.layers.recurrent import LSTM\n",
    "from keras.callbacks import ModelCheckpoint\n",
    "from keras.callbacks import Callback\n",
    "from keras.models import model_from_json\n",
    "from keras.optimizers import Adam"
   ]
  },
  {
   "cell_type": "code",
   "execution_count": 3,
   "metadata": {
    "collapsed": true
   },
   "outputs": [],
   "source": [
    "#PianoRoll\n",
    "sys.path.append(os.getcwd()+\"/../../PianoRoll/\")\n",
    "sys.path.append(os.getcwd()+\"/../../\")\n",
    "from PianoRoll import PianoRoll"
   ]
  },
  {
   "cell_type": "code",
   "execution_count": 4,
   "metadata": {
    "collapsed": false
   },
   "outputs": [],
   "source": [
    "#RNN Config\n",
    "num_epochs = 3\n",
    "batch_size = 128\n",
    "num_layers = 1\n",
    "loss_function = 'categorical_crossentropy'\n",
    "optimizer = 'adam'\n",
    "activ_func = \"sigmoid\"\n",
    "validation_split = 0.05\n",
    "note_threshold = 0.1\n",
    "res_factor = 12\n",
    "le_rate = 3e-4\n",
    "\n",
    "#Composer paths\n",
    "chord_dir = os.getcwd() + \"/../../data/testData/chords/\"\n",
    "composition_dir = os.getcwd() + \"/compositions/\"\n",
    "\n",
    "#Checkpoint paths\n",
    "model_dir = os.getcwd() + \"/checkpoints/model/\"\n",
    "weights_dir = os.getcwd() + \"/checkpoints/weights/\"\n",
    "train_chord_path = os.getcwd() + \"/../../data/trainData/chords/\"\n",
    "train_melody_path = os.getcwd() + \"/../../data/trainData/melody/\"\n",
    "test_chord_path = os.getcwd() + \"/../../data/testData/chords/\"\n",
    "\n",
    "#Results - Plots file\n",
    "results_dir = os.getcwd() + \"/results/\"\n",
    "\n",
    "#Other constants\n",
    "MIDI_FILE_EXTENSION = \"mid\"\n",
    "NOTE_ON = \"note_on\"\n",
    "NOTE_OFF = \"note_off\"\n",
    "MAX_NOTE = \"max_note\"\n",
    "MIN_NOTE = \"min_note\"\n",
    "TICKS = \"ticks\"\n",
    "MIN_NOTE_INITIALIZER = 10000\n",
    "MAX_NOTE_INITIALIZER = 0\n",
    "MAX_TICK_INITIALIZER = 0\n",
    "MELODY_LOWEST_NOTE = 60"
   ]
  },
  {
   "cell_type": "markdown",
   "metadata": {},
   "source": [
    "# Dataset Creation Tests"
   ]
  },
  {
   "cell_type": "code",
   "execution_count": 5,
   "metadata": {
    "collapsed": false
   },
   "outputs": [
    {
     "name": "stdout",
     "output_type": "stream",
     "text": [
      "(256, 59, 48)\n",
      "(256, 83, 60)\n"
     ]
    }
   ],
   "source": [
    "chord_roll = PianoRoll(train_chord_path, res_factor=res_factor)\n",
    "melody_roll = PianoRoll(train_melody_path, res_factor=res_factor)\n",
    "chord_roll_test = PianoRoll(test_chord_path, res_factor=res_factor)\n",
    "print(chord_roll.ticks, chord_roll.max_note, chord_roll.min_note)\n",
    "print(melody_roll.ticks, melody_roll.max_note, melody_roll.min_note)"
   ]
  },
  {
   "cell_type": "code",
   "execution_count": 6,
   "metadata": {
    "collapsed": false
   },
   "outputs": [
    {
     "name": "stdout",
     "output_type": "stream",
     "text": [
      "(68, 256, 12)\n",
      "(68, 256, 12)\n"
     ]
    }
   ],
   "source": [
    "#Test the Chord piano roll\n",
    "x = chord_roll.generate_piano_roll_func()\n",
    "y = chord_roll.generate_piano_roll()\n",
    "print(x.shape)\n",
    "print(y.shape)\n",
    "np.testing.assert_equal(x, y)"
   ]
  },
  {
   "cell_type": "code",
   "execution_count": 7,
   "metadata": {
    "collapsed": false
   },
   "outputs": [
    {
     "name": "stdout",
     "output_type": "stream",
     "text": [
      "(68, 256, 24)\n",
      "(68, 256, 24)\n"
     ]
    }
   ],
   "source": [
    "# Test the melody piano roll\n",
    "x = melody_roll.generate_piano_roll_func()\n",
    "y = melody_roll.generate_piano_roll()\n",
    "print(x.shape)\n",
    "print(y.shape)\n",
    "np.testing.assert_equal(x, y)"
   ]
  },
  {
   "cell_type": "code",
   "execution_count": 8,
   "metadata": {
    "collapsed": false
   },
   "outputs": [],
   "source": [
    "#Test Train and Test samples\n",
    "chord_data = chord_roll.generate_piano_roll()\n",
    "chord_double = PianoRoll.doubleRoll(chord_data)\n",
    "mel_data = melody_roll.generate_piano_roll()\n",
    "mel_double = PianoRoll.doubleRoll(mel_data)\n",
    "# chord_data_test = chord_roll_test.generate_piano_roll()\n",
    "# chord_double_test = PianoRoll.doubleRoll(chord_data_test)\n",
    "\n",
    "ip_data, tar_data = PianoRoll.createNetInputs(chord_double, mel_double, seq_length=256)\n",
    "y_ip, y_tar = PianoRoll.generate_samples(chord_data, mel_data, seq_length=chord_roll.ticks)\n",
    "\n",
    "\n",
    "np.testing.assert_equal(ip_data, y_ip)\n",
    "np.testing.assert_equal(tar_data, y_tar)\n",
    "X_train = ip_data.astype(np.int32)\n",
    "Y_train = tar_data.astype(np.int32)"
   ]
  },
  {
   "cell_type": "code",
   "execution_count": 9,
   "metadata": {
    "collapsed": false
   },
   "outputs": [],
   "source": [
    "class Metrics(Callback):\n",
    "    def on_train_begin(self, logs={}):\n",
    "        self.stats = {\n",
    "            \"loss_history\": [],\n",
    "            \"train_acc_history\": [],\n",
    "            \"val_acc_history\": []\n",
    "        }\n",
    "\n",
    "    def on_batch_end(self, batch, logs={}):\n",
    "        self.stats[\"loss_history\"].append(logs.get(\"loss\"))\n",
    "    \n",
    "    def on_epoch_end(self, epoch, logs={}):\n",
    "        self.stats[\"train_acc_history\"].append(logs.get(\"acc\"))\n",
    "        self.stats[\"val_acc_history\"].append(logs.get(\"val_acc\"))"
   ]
  },
  {
   "cell_type": "code",
   "execution_count": 10,
   "metadata": {
    "collapsed": true
   },
   "outputs": [],
   "source": [
    "def visualize(stats, title):\n",
    "    plt.subplot(2, 1, 1)\n",
    "    plt.plot(stats['loss_history'])\n",
    "    plt.title('Loss history')\n",
    "    plt.xlabel('Iteration')\n",
    "    plt.ylabel('Loss')\n",
    "\n",
    "    plt.subplot(2, 1, 2)\n",
    "    plt.plot(stats['train_acc_history'], label='train')\n",
    "    plt.plot(stats['val_acc_history'], label='val')\n",
    "    plt.title('Classification accuracy history')\n",
    "    plt.xlabel('Epoch')\n",
    "    plt.ylabel('Clasification accuracy')\n",
    "    plt.savefig(results_dir + title)\n",
    "    plt.show()"
   ]
  },
  {
   "cell_type": "markdown",
   "metadata": {},
   "source": [
    "# Build LSTM Network"
   ]
  },
  {
   "cell_type": "code",
   "execution_count": 11,
   "metadata": {
    "collapsed": false
   },
   "outputs": [
    {
     "name": "stdout",
     "output_type": "stream",
     "text": [
      "____________________________________________________________________________________________________\n",
      "Layer (type)                     Output Shape          Param #     Connected to                     \n",
      "====================================================================================================\n",
      "lstm_1 (LSTM)                    (None, 24)            3552        lstm_input_1[0][0]               \n",
      "====================================================================================================\n",
      "Total params: 3552\n",
      "____________________________________________________________________________________________________\n",
      "None\n"
     ]
    }
   ],
   "source": [
    "D = X_train.shape[2] #Number of input dimensions\n",
    "C = Y_train.shape[1] #Number of classes\n",
    "model = Sequential()\n",
    "if num_layers <= 1:\n",
    "    model.add(LSTM(input_dim = D, output_dim=C, activation=activ_func, return_sequences=False))\n",
    "else:\n",
    "    layer_dims = int(input(\"Enter the number of units in hidden layer#{}\\t\".format(1)))\n",
    "    model.add(LSTM(input_dim = D, output_dim=layer_dims, activation=activ_func, return_sequences=True))\n",
    "    for layer_id in range(2, num_layers):\n",
    "        layer_dims = int(input(\"Enter the number of units in the hidden layer#{}\\t\".format(layer_id)))\n",
    "        model.add(LSTM(output_dim=layer_dims, activation=activ_func, return_sequences=True))\n",
    "    model.add(LSTM(output_dim=C, activation=activ_func, return_sequences=False))\n",
    "print(model.summary())\n",
    "# print(model.get_config())"
   ]
  },
  {
   "cell_type": "code",
   "execution_count": 12,
   "metadata": {
    "collapsed": false
   },
   "outputs": [],
   "source": [
    "if optimizer == \"adam\":\n",
    "    opt_func = Adam(lr=le_rate, beta_1=0.9, beta_2=0.999, epsilon=1e-08, decay=0.0)\n",
    "model.compile(loss=loss_function, metrics=[\"accuracy\"], optimizer=optimizer)"
   ]
  },
  {
   "cell_type": "code",
   "execution_count": 13,
   "metadata": {
    "collapsed": false
   },
   "outputs": [
    {
     "name": "stdout",
     "output_type": "stream",
     "text": [
      "Train on 16537 samples, validate on 871 samples\n",
      "Epoch 1/3\n",
      "16537/16537 [==============================] - 32s - loss: 1.3535 - acc: 0.0749 - val_loss: 1.3731 - val_acc: 0.0230\n",
      "Epoch 2/3\n",
      "16537/16537 [==============================] - 29s - loss: 1.2365 - acc: 0.0884 - val_loss: 1.3033 - val_acc: 0.0241\n",
      "Epoch 3/3\n",
      "16537/16537 [==============================] - 26s - loss: 1.1896 - acc: 0.0914 - val_loss: 1.2644 - val_acc: 0.0379\n"
     ]
    },
    {
     "data": {
      "text/plain": [
       "<keras.callbacks.History at 0x16110a810>"
      ]
     },
     "execution_count": 13,
     "metadata": {},
     "output_type": "execute_result"
    }
   ],
   "source": [
    "history = Metrics()\n",
    "model.fit(X_train, Y_train, \n",
    "          batch_size=batch_size, \n",
    "          nb_epoch=num_epochs, \n",
    "          callbacks=[history], \n",
    "          validation_split=validation_split)"
   ]
  },
  {
   "cell_type": "code",
   "execution_count": 14,
   "metadata": {
    "collapsed": false
   },
   "outputs": [],
   "source": [
    "weights_file = \"{}layer_{}epochs_{}\".format(num_layers, num_epochs, time.strftime(\"%Y%m%d_%H_%M.h5\"))\n",
    "model.save_weights(weights_dir + weights_file)\n",
    "model_file = \"{}layer_{}epochs_{}\".format(num_layers, num_epochs, time.strftime(\"%Y%m%d_%H_%M.json\"))\n",
    "with open(model_dir + model_file, \"w\") as model_file_writer:\n",
    "    model_file_writer.write(model.to_json())"
   ]
  },
  {
   "cell_type": "markdown",
   "metadata": {},
   "source": [
    "# Visualize the Stats"
   ]
  },
  {
   "cell_type": "code",
   "execution_count": 15,
   "metadata": {
    "collapsed": false
   },
   "outputs": [
    {
     "data": {
      "image/png": "[encoded data removed]",
      "text/plain": [
       "<matplotlib.figure.Figure at 0x161102410>"
      ]
     },
     "metadata": {},
     "output_type": "display_data"
    }
   ],
   "source": [
    "results_file = \"lstm_{}layer_{}epochs_{}\".format(num_layers, num_epochs, time.strftime(\"%Y%m%d_%H_%M.jpg\"))\n",
    "visualize(history.stats, results_file)"
   ]
  },
  {
   "cell_type": "markdown",
   "metadata": {
    "collapsed": true
   },
   "source": [
    "# Compose Music"
   ]
  },
  {
   "cell_type": "code",
   "execution_count": 16,
   "metadata": {
    "collapsed": false
   },
   "outputs": [
    {
     "name": "stdout",
     "output_type": "stream",
     "text": [
      "(['/Users/arulselvanmadhavan/cs6140-machine-learning/Keras_projects/LSTM-RNN-Melody-Composer/models/lstm/../../data/testData/chords/1_testchord.mid', '/Users/arulselvanmadhavan/cs6140-machine-learning/Keras_projects/LSTM-RNN-Melody-Composer/models/lstm/../../data/testData/chords/2_testchord.mid', '/Users/arulselvanmadhavan/cs6140-machine-learning/Keras_projects/LSTM-RNN-Melody-Composer/models/lstm/../../data/testData/chords/3_testchord.mid', '/Users/arulselvanmadhavan/cs6140-machine-learning/Keras_projects/LSTM-RNN-Melody-Composer/models/lstm/../../data/testData/chords/4_testchord.mid', '/Users/arulselvanmadhavan/cs6140-machine-learning/Keras_projects/LSTM-RNN-Melody-Composer/models/lstm/../../data/testData/chords/5_testchord.mid', '/Users/arulselvanmadhavan/cs6140-machine-learning/Keras_projects/LSTM-RNN-Melody-Composer/models/lstm/../../data/testData/chords/6_testchord.mid', '/Users/arulselvanmadhavan/cs6140-machine-learning/Keras_projects/LSTM-RNN-Melody-Composer/models/lstm/../../data/testData/chords/7_testchord.mid', '/Users/arulselvanmadhavan/cs6140-machine-learning/Keras_projects/LSTM-RNN-Melody-Composer/models/lstm/../../data/testData/chords/8_testchord.mid'], ['1', '2', '3', '4', '5', '6', '7', '8'])\n"
     ]
    }
   ],
   "source": [
    "chord_files = glob.glob(\"%s*.mid\" %(chord_dir))\n",
    "composition_files = []\n",
    "for i in range(len(chord_files)):\n",
    "    composition_files.append('%d' %(i+1))\n",
    "print(chord_files, composition_files)"
   ]
  },
  {
   "cell_type": "code",
   "execution_count": 17,
   "metadata": {
    "collapsed": false
   },
   "outputs": [
    {
     "name": "stdout",
     "output_type": "stream",
     "text": [
      "# of Ticks:256\tMax_Note:59\tMin_Note:48\n"
     ]
    }
   ],
   "source": [
    "chord_test_roll = PianoRoll(chord_dir, res_factor=res_factor)\n",
    "print(\"# of Ticks:{}\\tMax_Note:{}\\tMin_Note:{}\".format(chord_test_roll.ticks,\n",
    "                                                  chord_test_roll.max_note,\n",
    "                                                  chord_test_roll.min_note))"
   ]
  },
  {
   "cell_type": "code",
   "execution_count": 18,
   "metadata": {
    "collapsed": true
   },
   "outputs": [],
   "source": [
    "chord_test_data = chord_test_roll.generate_piano_roll_func()\n",
    "X_test = PianoRoll.generate_test_samples(chord_test_data, chord_test_roll.ticks)"
   ]
  },
  {
   "cell_type": "code",
   "execution_count": 19,
   "metadata": {
    "collapsed": false
   },
   "outputs": [
    {
     "name": "stdout",
     "output_type": "stream",
     "text": [
      "Choose a file for the model:\n",
      "---------------------------------------\n",
      "0 : 1layer_3epochs_20161130_12_41.json\n",
      "1 : 1layer_50epochs_20161130_12_19.json\n",
      "---------------------------------------\n",
      "Enter the index of the file model that you want:\t1\n",
      "Loading model from /Users/arulselvanmadhavan/cs6140-machine-learning/Keras_projects/LSTM-RNN-Melody-Composer/models/lstm/checkpoints/model/1layer_50epochs_20161130_12_19.json\n"
     ]
    }
   ],
   "source": [
    "#Load Model\n",
    "model_files = listdir(model_dir)\n",
    "print(\"Choose a file for the model:\")\n",
    "print(\"---------------------------------------\")\n",
    "for i, file in enumerate(model_files):\n",
    "    print(str(i) + \" : \" + file)\n",
    "print(\"---------------------------------------\")\n",
    "file_index = input(\"Enter the index of the file model that you want:\\t\")\n",
    "model_path = model_dir + model_files[file_index]\n",
    "print(\"Loading model from {}\".format(model_path))\n",
    "model = model_from_json(open(model_path).read())"
   ]
  },
  {
   "cell_type": "code",
   "execution_count": 20,
   "metadata": {
    "collapsed": false
   },
   "outputs": [
    {
     "name": "stdout",
     "output_type": "stream",
     "text": [
      "Choose a file for the weights:\n",
      "---------------------------------------\n",
      "0 : 1layer_3epochs_20161130_12_41.h5\n",
      "1 : 1layer_50epochs_20161130_12_19.h5\n",
      "---------------------------------------\n",
      "Enter the file index of the weights that you want1\n",
      "('Loading weights from ', '/Users/arulselvanmadhavan/cs6140-machine-learning/Keras_projects/LSTM-RNN-Melody-Composer/models/lstm/checkpoints/weights/1layer_50epochs_20161130_12_19.h5')\n"
     ]
    }
   ],
   "source": [
    "#Load Weights\n",
    "weights_files = listdir(weights_dir)\n",
    "print(\"Choose a file for the weights:\")\n",
    "print(\"---------------------------------------\")\n",
    "for i, file in enumerate(weights_files):\n",
    "    print(str(i) + \" : \" + file)\n",
    "print(\"---------------------------------------\")\n",
    "file_index = input(\"Enter the file index of the weights that you want\")\n",
    "weights_path = weights_dir + weights_files[file_index]\n",
    "print(\"Loading weights from \", weights_path)\n",
    "model.load_weights(weights_path)"
   ]
  },
  {
   "cell_type": "code",
   "execution_count": 21,
   "metadata": {
    "collapsed": false
   },
   "outputs": [
    {
     "name": "stdout",
     "output_type": "stream",
     "text": [
      "Finished composing song 1.\n",
      "Finished composing song 2.\n",
      "Finished composing song 3.\n",
      "Finished composing song 4.\n",
      "Finished composing song 5.\n",
      "Finished composing song 6.\n",
      "Finished composing song 7.\n",
      "Finished composing song 8.\n"
     ]
    }
   ],
   "source": [
    "model.compile(loss='categorical_crossentropy', optimizer='adam')\n",
    "for i, song in enumerate(X_test):\n",
    "    net_output = model.predict(song)\n",
    "    net_roll = PianoRoll.NetOutToPianoRoll(net_output, threshold=note_threshold)\n",
    "    PianoRoll.createMidiFromPianoRoll(net_roll, MELODY_LOWEST_NOTE, composition_dir,\n",
    "                                               composition_files[i], note_threshold, res_factor=res_factor)\n",
    "    print(\"Finished composing song %d.\" %(i+1))"
   ]
  },
  {
   "cell_type": "markdown",
   "metadata": {},
   "source": [
    "# Old Tests"
   ]
  },
  {
   "cell_type": "code",
   "execution_count": 22,
   "metadata": {
    "collapsed": false
   },
   "outputs": [],
   "source": [
    "# #Note On OFF Array Test - Shape\n",
    "# from mido import MidiFile\n",
    "# configs = {\n",
    "#             \"res_factor\":train_obj.res_factor,\n",
    "#             \"max_note\": train_obj.max_note,\n",
    "#             \"min_note\": train_obj.min_note\n",
    "#         }\n",
    "# x = PianoRoll.get_note_info(train_obj.files[0], configs)\n",
    "# y = PianoRoll.getNoteTimeOnOffArray(MidiFile(train_obj.files[0]), train_obj.res_factor)\n",
    "# y = np.array(y)\n",
    "# np.testing.assert_almost_equal(x, y)"
   ]
  },
  {
   "cell_type": "code",
   "execution_count": 23,
   "metadata": {
    "collapsed": false
   },
   "outputs": [],
   "source": [
    "# notes = x.T[0]\n",
    "# for i in range(train_obj.min_note, train_obj.max_note + 1):\n",
    "#     print(\"{}\\t{}\\t{}\".format(i, (notes == i).sum(), ((notes == i).sum() % 2) == 0))"
   ]
  },
  {
   "cell_type": "code",
   "execution_count": 24,
   "metadata": {
    "collapsed": false
   },
   "outputs": [],
   "source": [
    "# c = [np.array(np.arange(200).reshape(2,10,10)), np.array(np.arange(200).reshape(2,10,10))]\n",
    "# np.vstack(c).shape"
   ]
  },
  {
   "cell_type": "code",
   "execution_count": 25,
   "metadata": {
    "collapsed": false
   },
   "outputs": [],
   "source": [
    "# x = PianoRoll.get_note_info(train_obj.files[0], configs)\n",
    "# y_temp = PianoRoll.getNoteTimeOnOffArray(MidiFile(train_obj.files[0]), train_obj.res_factor)\n",
    "# y = PianoRoll.getNoteOnLengthArray(y_temp)\n",
    "# np.testing.assert_almost_equal(x,y)"
   ]
  },
  {
   "cell_type": "code",
   "execution_count": null,
   "metadata": {
    "collapsed": true
   },
   "outputs": [],
   "source": []
  }
 ],
 "metadata": {
  "anaconda-cloud": {},
  "kernelspec": {
   "display_name": "Python [conda env:py27]",
   "language": "python",
   "name": "conda-env-py27-py"
  },
  "language_info": {
   "codemirror_mode": {
    "name": "ipython",
    "version": 2
   },
   "file_extension": ".py",
   "mimetype": "text/x-python",
   "name": "python",
   "nbconvert_exporter": "python",
   "pygments_lexer": "ipython2",
   "version": "2.7.12"
  }
 },
 "nbformat": 4,
 "nbformat_minor": 1
}

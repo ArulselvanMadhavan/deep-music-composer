{
 "cells": [
  {
   "cell_type": "code",
   "execution_count": 11,
   "metadata": {
    "collapsed": false
   },
   "outputs": [
    {
     "name": "stdout",
     "output_type": "stream",
     "text": [
      "The autoreload extension is already loaded. To reload it, use:\n",
      "  %reload_ext autoreload\n"
     ]
    }
   ],
   "source": [
    "import numpy as np\n",
    "import matplotlib.pyplot as plt\n",
    "import os\n",
    "import time\n",
    "import sys\n",
    "import glob\n",
    "from os import listdir\n",
    "from music21 import *\n",
    "%matplotlib inline\n",
    "plt.rcParams['figure.figsize'] = (10.0, 8.0)\n",
    "plt.rcParams['image.interpolation'] = 'nearest'\n",
    "plt.rcParams['image.cmap'] = 'gray'\n",
    "%load_ext autoreload\n",
    "%autoreload 2"
   ]
  },
  {
   "cell_type": "code",
   "execution_count": 2,
   "metadata": {
    "collapsed": false
   },
   "outputs": [
    {
     "name": "stderr",
     "output_type": "stream",
     "text": [
      "Using Theano backend.\n"
     ]
    }
   ],
   "source": [
    "#Keras Imports\n",
    "from keras.models import model_from_json\n",
    "from keras.models import Sequential\n",
    "from keras.layers.recurrent import LSTM"
   ]
  },
  {
   "cell_type": "code",
   "execution_count": 172,
   "metadata": {
    "collapsed": true
   },
   "outputs": [],
   "source": [
    "#PianoRoll\n",
    "sys.path.append(os.getcwd()+\"/../../PianoRoll/\")\n",
    "sys.path.append(os.getcwd()+\"/../../\")\n",
    "from PianoRoll import PianoRoll\n",
    "from Utils import Utils\n",
    "from metrics import Metrics"
   ]
  },
  {
   "cell_type": "code",
   "execution_count": 103,
   "metadata": {
    "collapsed": true
   },
   "outputs": [],
   "source": [
    "res_factor = 12\n",
    "note_threshold = 0.1\n",
    "#Composer paths\n",
    "chord_dir = os.getcwd() + \"/../../data/testData/chords/\"\n",
    "composition_dir = os.getcwd() + \"/compositions/\"\n",
    "#Checkpoint paths\n",
    "model_dir = os.getcwd() + \"/checkpoints/model/\"\n",
    "weights_dir = os.getcwd() + \"/checkpoints/weights/\"\n",
    "\n",
    "#Other constants\n",
    "MIDI_FILE_EXTENSION = \"mid\"\n",
    "NOTE_ON = \"note_on\"\n",
    "NOTE_OFF = \"note_off\"\n",
    "MAX_NOTE = \"max_note\"\n",
    "MIN_NOTE = \"min_note\"\n",
    "TICKS = \"ticks\"\n",
    "MIN_NOTE_INITIALIZER = 10000\n",
    "MAX_NOTE_INITIALIZER = 0\n",
    "MAX_TICK_INITIALIZER = 0\n",
    "MELODY_LOWEST_NOTE = 60\n",
    "DEFAULT_TICKS_PER_BEAT = 96"
   ]
  },
  {
   "cell_type": "code",
   "execution_count": null,
   "metadata": {
    "collapsed": false
   },
   "outputs": [],
   "source": [
    "chord_files = glob.glob(\"%s*.mid\" %(chord_dir))\n",
    "composition_files = []\n",
    "for i in range(len(chord_files)):\n",
    "    composition_files.append('generated_%d' %(i+1))\n",
    "print(chord_files, composition_files)"
   ]
  },
  {
   "cell_type": "code",
   "execution_count": null,
   "metadata": {
    "collapsed": false
   },
   "outputs": [],
   "source": [
    "chord_test_roll = PianoRoll(chord_dir, res_factor=res_factor)\n",
    "print(\"# of Ticks:{}\\tMax_Note:{}\\tMin_Note:{}\".format(chord_test_roll.ticks,\n",
    "                                                  chord_test_roll.max_note,\n",
    "                                                  chord_test_roll.min_note))"
   ]
  },
  {
   "cell_type": "code",
   "execution_count": null,
   "metadata": {
    "collapsed": false
   },
   "outputs": [],
   "source": [
    "chord_test_data = chord_test_roll.generate_piano_roll_func()\n",
    "doubled_chords = np.tile(chord_test_data, (1, 2, 1))\n",
    "X_test = PianoRoll.create_test_inputs(doubled_chords, chord_test_roll.ticks)\n",
    "print(X_test.shape)"
   ]
  },
  {
   "cell_type": "code",
   "execution_count": null,
   "metadata": {
    "collapsed": false
   },
   "outputs": [],
   "source": [
    "# #Load Model\n",
    "# model_files = listdir(model_dir)\n",
    "# print(\"Choose a file for the model:\")\n",
    "# print(\"---------------------------------------\")\n",
    "# for i, file in enumerate(model_files):\n",
    "#     print(str(i) + \" : \" + file)\n",
    "# print(\"---------------------------------------\")\n",
    "# file_index = input(\"Enter the index of the file model that you want:\\t\")\n",
    "# model_path = model_dir + model_files[file_index]\n",
    "# print(\"Loading model from {}\".format(model_path))\n",
    "# model = model_from_json(open(model_path).read())"
   ]
  },
  {
   "cell_type": "code",
   "execution_count": null,
   "metadata": {
    "collapsed": true
   },
   "outputs": [],
   "source": [
    "model = Sequential()"
   ]
  },
  {
   "cell_type": "code",
   "execution_count": null,
   "metadata": {
    "collapsed": true
   },
   "outputs": [],
   "source": [
    "from keras.layers.recurrent import LSTM"
   ]
  },
  {
   "cell_type": "code",
   "execution_count": null,
   "metadata": {
    "collapsed": false
   },
   "outputs": [],
   "source": [
    "model.add(LSTM(input_dim=12, output_dim=24, activation='sigmoid', return_sequences=False))\n",
    "# model.add(LSTM(output_dim=18,activation=\"sigmoid\", return_sequences=True))\n",
    "# model.add(LSTM(output_dim=24, activation=\"sigmoid\", return_sequences=False))\n",
    "# model.add(LSTM(output_dim=24, activation=\"sigmoid\", return_sequences=True))\n",
    "# model.add(LSTM(output_dim=24, activation=\"sigmoid\", return_sequences=False))\n",
    "model.compile(loss='binary_crossentropy', optimizer='adam')"
   ]
  },
  {
   "cell_type": "code",
   "execution_count": null,
   "metadata": {
    "collapsed": false
   },
   "outputs": [],
   "source": [
    "model.load_weights(\"checkpoints/weights/1layer_24_6000epochs.h5\")"
   ]
  },
  {
   "cell_type": "code",
   "execution_count": null,
   "metadata": {
    "collapsed": false
   },
   "outputs": [],
   "source": [
    "print(X_test.shape)"
   ]
  },
  {
   "cell_type": "code",
   "execution_count": null,
   "metadata": {
    "collapsed": false
   },
   "outputs": [],
   "source": [
    "!pip install music21"
   ]
  },
  {
   "cell_type": "code",
   "execution_count": null,
   "metadata": {
    "collapsed": true
   },
   "outputs": [],
   "source": [
    "parsed_file = converter.parse(\"../../data/trainData/melody/001.mid\")"
   ]
  },
  {
   "cell_type": "code",
   "execution_count": null,
   "metadata": {
    "collapsed": false
   },
   "outputs": [],
   "source": [
    "parsed_file.show()"
   ]
  },
  {
   "cell_type": "code",
   "execution_count": null,
   "metadata": {
    "collapsed": false
   },
   "outputs": [],
   "source": [
    "gen_stream = converter.parse(\"../../data/testData/melody_composition/gen_001.mid\")\n",
    "gen_stream.show()"
   ]
  },
  {
   "cell_type": "code",
   "execution_count": null,
   "metadata": {
    "collapsed": false
   },
   "outputs": [],
   "source": [
    "parsed_file.plot()"
   ]
  },
  {
   "cell_type": "code",
   "execution_count": null,
   "metadata": {
    "collapsed": false
   },
   "outputs": [],
   "source": [
    "score.plot()"
   ]
  },
  {
   "cell_type": "code",
   "execution_count": null,
   "metadata": {
    "collapsed": false
   },
   "outputs": [],
   "source": [
    "tst_roll = PianoRoll.fromMidiCreatePianoRoll([os.getcwd()+\"/../../data/testData/melody_composition/001.mid\"], 256, 67, 24, 12)"
   ]
  },
  {
   "cell_type": "code",
   "execution_count": null,
   "metadata": {
    "collapsed": true
   },
   "outputs": [],
   "source": [
    "tst_roll = np.squeeze(tst_roll)"
   ]
  },
  {
   "cell_type": "code",
   "execution_count": null,
   "metadata": {
    "collapsed": false
   },
   "outputs": [],
   "source": [
    "max_pitches = np.argmax(tst_roll, axis=1)\n",
    "max_pitches[max_pitches!=0] += (67 - 1)"
   ]
  },
  {
   "cell_type": "code",
   "execution_count": null,
   "metadata": {
    "collapsed": false
   },
   "outputs": [],
   "source": [
    "from itertools import groupby\n",
    "pitch_with_duration = [(key, len(list(group))) for key, group in groupby(max_pitches)]"
   ]
  },
  {
   "cell_type": "code",
   "execution_count": null,
   "metadata": {
    "collapsed": false
   },
   "outputs": [],
   "source": [
    "s = stream.Stream()\n",
    "for i in range(0, len(pitch_with_duration)):\n",
    "    pitch_val, dur_count = pitch_with_duration[i]\n",
    "    if(pitch_val == 0):\n",
    "        n = note.Rest()\n",
    "        n.duration.quarterLength = (0.125 * dur_count)\n",
    "    else:\n",
    "        p = pitch.Pitch()\n",
    "        p.midi = pitch_val\n",
    "        n = note.Note(p.midi, quarterLength = (0.125 * dur_count))\n",
    "    s.append(n)\n",
    "# print(s.pitches)\n",
    "print(s.duration.quarterLength)"
   ]
  },
  {
   "cell_type": "code",
   "execution_count": null,
   "metadata": {
    "collapsed": true
   },
   "outputs": [],
   "source": [
    "score = stream.Stream()\n",
    "part = stream.Part()\n",
    "# part.clef = clef.BassClef()\n",
    "# part.append(instrument.Harpsichord())\n",
    "part.insert(s)\n",
    "score.insert(part)"
   ]
  },
  {
   "cell_type": "code",
   "execution_count": null,
   "metadata": {
    "collapsed": false
   },
   "outputs": [],
   "source": [
    "mf = midi.translate.streamToMidiFile(score)\n",
    "mf.open(os.getcwd() + '/../../data/testData/melody_composition/gen_001.mid', 'wb')\n",
    "mf.write()\n",
    "mf.close()  "
   ]
  },
  {
   "cell_type": "code",
   "execution_count": 137,
   "metadata": {
    "collapsed": false
   },
   "outputs": [],
   "source": [
    "def chord2roll_wrapper(dir_path, num_ticks, lowest_note, num_cols, res_factor):\n",
    "    chord_files = glob.glob(\"%s*.mid\" %(chord_dir))\n",
    "    piano_roll = np.zeros((len(chord_files), num_ticks, num_cols))\n",
    "    for chord_file_id in range(len(chord_files)):\n",
    "        roll = chord2roll(chord_files[chord_file_id], num_ticks, lowest_note, num_cols, res_factor)\n",
    "        piano_roll[chord_file_id, :, :] = roll\n",
    "    return piano_roll"
   ]
  },
  {
   "cell_type": "code",
   "execution_count": 161,
   "metadata": {
    "collapsed": false
   },
   "outputs": [],
   "source": [
    "def chord2roll(chord_file, num_ticks, lowest_note, num_cols, res_factor):\n",
    "    cstream = converter.parse(chord_file)\n",
    "    part = cstream.elements[0]\n",
    "    timesteps_so_far = 0\n",
    "    ticks_per_beat = DEFAULT_TICKS_PER_BEAT/res_factor\n",
    "    roll = np.zeros((num_ticks, num_cols))\n",
    "    for nr in part.notesAndRests:\n",
    "        if isinstance(nr, note.Rest):\n",
    "            c_pitches = [0]\n",
    "        else:\n",
    "            c_pitches = [p.midi - lowest_note + 1 for p in nr.pitches]\n",
    "        start = timesteps_so_far\n",
    "        dur_count = float(nr.quarterLength)\n",
    "        timesteps_so_far += int(ticks_per_beat * dur_count)\n",
    "        end = timesteps_so_far\n",
    "        roll[start:end,c_pitches] = 1.0\n",
    "    return roll"
   ]
  },
  {
   "cell_type": "code",
   "execution_count": 164,
   "metadata": {
    "collapsed": false
   },
   "outputs": [
    {
     "name": "stdout",
     "output_type": "stream",
     "text": [
      "[0]\n",
      "[3, 6, 10]\n",
      "[2, 5, 8, 10]\n",
      "[1, 6, 10]\n",
      "[3, 6, 10]\n",
      "[2, 5, 8, 10]\n",
      "[1, 6, 10]\n"
     ]
    },
    {
     "data": {
      "text/plain": [
       "array([[ 1.,  0.,  0.,  0.,  0.,  0.,  0.,  0.,  0.,  0.,  0.,  0.,  0.],\n",
       "       [ 1.,  0.,  0.,  0.,  0.,  0.,  0.,  0.,  0.,  0.,  0.,  0.,  0.],\n",
       "       [ 1.,  0.,  0.,  0.,  0.,  0.,  0.,  0.,  0.,  0.,  0.,  0.,  0.],\n",
       "       [ 1.,  0.,  0.,  0.,  0.,  0.,  0.,  0.,  0.,  0.,  0.,  0.,  0.],\n",
       "       [ 1.,  0.,  0.,  0.,  0.,  0.,  0.,  0.,  0.,  0.,  0.,  0.,  0.],\n",
       "       [ 1.,  0.,  0.,  0.,  0.,  0.,  0.,  0.,  0.,  0.,  0.,  0.,  0.],\n",
       "       [ 1.,  0.,  0.,  0.,  0.,  0.,  0.,  0.,  0.,  0.,  0.,  0.,  0.],\n",
       "       [ 1.,  0.,  0.,  0.,  0.,  0.,  0.,  0.,  0.,  0.,  0.,  0.,  0.],\n",
       "       [ 1.,  0.,  0.,  0.,  0.,  0.,  0.,  0.,  0.,  0.,  0.,  0.,  0.],\n",
       "       [ 1.,  0.,  0.,  0.,  0.,  0.,  0.,  0.,  0.,  0.,  0.,  0.,  0.],\n",
       "       [ 1.,  0.,  0.,  0.,  0.,  0.,  0.,  0.,  0.,  0.,  0.,  0.,  0.],\n",
       "       [ 1.,  0.,  0.,  0.,  0.,  0.,  0.,  0.,  0.,  0.,  0.,  0.,  0.],\n",
       "       [ 1.,  0.,  0.,  0.,  0.,  0.,  0.,  0.,  0.,  0.,  0.,  0.,  0.],\n",
       "       [ 1.,  0.,  0.,  0.,  0.,  0.,  0.,  0.,  0.,  0.,  0.,  0.,  0.],\n",
       "       [ 1.,  0.,  0.,  0.,  0.,  0.,  0.,  0.,  0.,  0.,  0.,  0.,  0.],\n",
       "       [ 1.,  0.,  0.,  0.,  0.,  0.,  0.,  0.,  0.,  0.,  0.,  0.,  0.],\n",
       "       [ 1.,  0.,  0.,  0.,  0.,  0.,  0.,  0.,  0.,  0.,  0.,  0.,  0.],\n",
       "       [ 1.,  0.,  0.,  0.,  0.,  0.,  0.,  0.,  0.,  0.,  0.,  0.,  0.],\n",
       "       [ 1.,  0.,  0.,  0.,  0.,  0.,  0.,  0.,  0.,  0.,  0.,  0.,  0.],\n",
       "       [ 1.,  0.,  0.,  0.,  0.,  0.,  0.,  0.,  0.,  0.,  0.,  0.,  0.],\n",
       "       [ 1.,  0.,  0.,  0.,  0.,  0.,  0.,  0.,  0.,  0.,  0.,  0.,  0.],\n",
       "       [ 1.,  0.,  0.,  0.,  0.,  0.,  0.,  0.,  0.,  0.,  0.,  0.,  0.],\n",
       "       [ 1.,  0.,  0.,  0.,  0.,  0.,  0.,  0.,  0.,  0.,  0.,  0.,  0.],\n",
       "       [ 1.,  0.,  0.,  0.,  0.,  0.,  0.,  0.,  0.,  0.,  0.,  0.,  0.],\n",
       "       [ 1.,  0.,  0.,  0.,  0.,  0.,  0.,  0.,  0.,  0.,  0.,  0.,  0.],\n",
       "       [ 1.,  0.,  0.,  0.,  0.,  0.,  0.,  0.,  0.,  0.,  0.,  0.,  0.],\n",
       "       [ 1.,  0.,  0.,  0.,  0.,  0.,  0.,  0.,  0.,  0.,  0.,  0.,  0.],\n",
       "       [ 1.,  0.,  0.,  0.,  0.,  0.,  0.,  0.,  0.,  0.,  0.,  0.,  0.],\n",
       "       [ 1.,  0.,  0.,  0.,  0.,  0.,  0.,  0.,  0.,  0.,  0.,  0.,  0.],\n",
       "       [ 1.,  0.,  0.,  0.,  0.,  0.,  0.,  0.,  0.,  0.,  0.,  0.,  0.],\n",
       "       [ 1.,  0.,  0.,  0.,  0.,  0.,  0.,  0.,  0.,  0.,  0.,  0.,  0.],\n",
       "       [ 1.,  0.,  0.,  0.,  0.,  0.,  0.,  0.,  0.,  0.,  0.,  0.,  0.],\n",
       "       [ 0.,  0.,  0.,  1.,  0.,  0.,  1.,  0.,  0.,  0.,  1.,  0.,  0.],\n",
       "       [ 0.,  0.,  0.,  1.,  0.,  0.,  1.,  0.,  0.,  0.,  1.,  0.,  0.],\n",
       "       [ 0.,  0.,  0.,  1.,  0.,  0.,  1.,  0.,  0.,  0.,  1.,  0.,  0.],\n",
       "       [ 0.,  0.,  0.,  1.,  0.,  0.,  1.,  0.,  0.,  0.,  1.,  0.,  0.],\n",
       "       [ 0.,  0.,  0.,  1.,  0.,  0.,  1.,  0.,  0.,  0.,  1.,  0.,  0.],\n",
       "       [ 0.,  0.,  0.,  1.,  0.,  0.,  1.,  0.,  0.,  0.,  1.,  0.,  0.]])"
      ]
     },
     "execution_count": 164,
     "metadata": {},
     "output_type": "execute_result"
    }
   ],
   "source": [
    "chord_roll = chord2roll(\"../../data/trainData/chords/016.mid\", 256, 48, 13, 12)\n",
    "chord_roll[0:38]"
   ]
  },
  {
   "cell_type": "code",
   "execution_count": 89,
   "metadata": {
    "collapsed": true
   },
   "outputs": [],
   "source": [
    "DEFAULT_TICKS_PER_BEAT = 96\n",
    "def midi2roll(path_to_file, num_ticks, lowest_note, num_cols, res_factor=12):\n",
    "    ticks_per_beat = DEFAULT_TICKS_PER_BEAT / res_factor  # Integer division\n",
    "    midi_stream = converter.parse(path_to_file)\n",
    "    roll = np.zeros((num_ticks, num_cols))\n",
    "    timesteps_so_far = 0\n",
    "    for nr in midi_stream.elements[0].notesAndRests:\n",
    "        print(nr)\n",
    "        p = nr.pitch.midi if isinstance(nr, note.Note) else 0\n",
    "        duration = float(nr.quarterLength)\n",
    "        col_idx = (p - lowest_note) + 1 if p != 0 else p  # Adding to distinguish the case where there is no note.\n",
    "        start = timesteps_so_far\n",
    "        timesteps_so_far += int(ticks_per_beat * duration)\n",
    "        end = timesteps_so_far\n",
    "        roll[start:end, col_idx] = 1.0\n",
    "    return roll"
   ]
  },
  {
   "cell_type": "code",
   "execution_count": 165,
   "metadata": {
    "collapsed": true
   },
   "outputs": [],
   "source": [
    "def midi2roll_wrapper(midi_dir, num_ticks, lowest_note, num_cols, keys_count = {},res_factor=12):\n",
    "    midi_files = Utils.get_matching_files(midi_dir+\"*.mid\")\n",
    "    piano_roll = np.zeros((len(midi_files), num_ticks, num_cols))\n",
    "    for i in range(len(midi_files)):\n",
    "        midi_file = midi_files[i]\n",
    "        piano_roll[i, :, :], keys_count = midi2roll(midi_file, \n",
    "                                                    num_ticks, \n",
    "                                                    lowest_note, \n",
    "                                                    num_cols, \n",
    "                                                    keys_count ,\n",
    "                                                    res_factor)\n",
    "    return piano_roll"
   ]
  },
  {
   "cell_type": "code",
   "execution_count": 173,
   "metadata": {
    "collapsed": false
   },
   "outputs": [
    {
     "ename": "AttributeError",
     "evalue": "type object 'PianoRoll' has no attribute 'midi2roll_wrapper'",
     "output_type": "error",
     "traceback": [
      "\u001b[0;31m---------------------------------------------------------------------------\u001b[0m",
      "\u001b[0;31mAttributeError\u001b[0m                            Traceback (most recent call last)",
      "\u001b[0;32m<ipython-input-173-71cc8f3a9af3>\u001b[0m in \u001b[0;36m<module>\u001b[0;34m()\u001b[0m\n\u001b[0;32m----> 1\u001b[0;31m \u001b[0mmelody_roll\u001b[0m \u001b[0;34m=\u001b[0m \u001b[0mPianoRoll\u001b[0m\u001b[0;34m.\u001b[0m\u001b[0mmidi2roll_wrapper\u001b[0m\u001b[0;34m(\u001b[0m\u001b[0mos\u001b[0m\u001b[0;34m.\u001b[0m\u001b[0mgetcwd\u001b[0m\u001b[0;34m(\u001b[0m\u001b[0;34m)\u001b[0m \u001b[0;34m+\u001b[0m \u001b[0;34m\"/../../data/trainData/melody/\"\u001b[0m\u001b[0;34m,\u001b[0m \u001b[0;36m256\u001b[0m\u001b[0;34m,\u001b[0m \u001b[0;36m60\u001b[0m\u001b[0;34m,\u001b[0m \u001b[0;36m25\u001b[0m\u001b[0;34m,\u001b[0m\u001b[0mres_factor\u001b[0m\u001b[0;34m=\u001b[0m\u001b[0;36m12\u001b[0m\u001b[0;34m)\u001b[0m\u001b[0;34m\u001b[0m\u001b[0m\n\u001b[0m",
      "\u001b[0;31mAttributeError\u001b[0m: type object 'PianoRoll' has no attribute 'midi2roll_wrapper'"
     ]
    }
   ],
   "source": [
    "melody_roll = PianoRoll.midi2roll_wrapper(os.getcwd() + \"/../../data/trainData/melody/\", 256, 60, 25,res_factor=12)"
   ]
  },
  {
   "cell_type": "code",
   "execution_count": 16,
   "metadata": {
    "collapsed": false
   },
   "outputs": [
    {
     "name": "stdout",
     "output_type": "stream",
     "text": [
      "(68, 256, 13)\n"
     ]
    }
   ],
   "source": [
    "chord_roll = midi2roll_wrapper(os.getcwd() + \"/../../data/trainData/chords/\", 256, 48, 13, 12)\n",
    "print(chord_roll.shape)"
   ]
  },
  {
   "cell_type": "code",
   "execution_count": 23,
   "metadata": {
    "collapsed": false
   },
   "outputs": [
    {
     "name": "stdout",
     "output_type": "stream",
     "text": [
      "(68, 512, 13)\n",
      "((17408, 256, 13), (17408, 25))\n"
     ]
    }
   ],
   "source": [
    "chord_doubles = np.tile(chord_roll, (1, 2, 1))\n",
    "melody_doubles = np.tile(melody_roll, (1, 2, 1))\n",
    "X_train, Y_train = PianoRoll.createNetInputs(chord_doubles, melody_doubles, seq_length=256)\n",
    "print(X_train.shape, Y_train.shape)"
   ]
  },
  {
   "cell_type": "code",
   "execution_count": 143,
   "metadata": {
    "collapsed": false
   },
   "outputs": [
    {
     "name": "stdout",
     "output_type": "stream",
     "text": [
      "(['/Users/arulselvanmadhavan/cs6140-machine-learning/Keras_projects/LSTM-RNN-Melody-Composer/models/lstm/../../data/testData/chords/1_testchord.mid', '/Users/arulselvanmadhavan/cs6140-machine-learning/Keras_projects/LSTM-RNN-Melody-Composer/models/lstm/../../data/testData/chords/2_testchord.mid', '/Users/arulselvanmadhavan/cs6140-machine-learning/Keras_projects/LSTM-RNN-Melody-Composer/models/lstm/../../data/testData/chords/3_testchord.mid', '/Users/arulselvanmadhavan/cs6140-machine-learning/Keras_projects/LSTM-RNN-Melody-Composer/models/lstm/../../data/testData/chords/4_testchord.mid', '/Users/arulselvanmadhavan/cs6140-machine-learning/Keras_projects/LSTM-RNN-Melody-Composer/models/lstm/../../data/testData/chords/5_testchord.mid', '/Users/arulselvanmadhavan/cs6140-machine-learning/Keras_projects/LSTM-RNN-Melody-Composer/models/lstm/../../data/testData/chords/6_testchord.mid', '/Users/arulselvanmadhavan/cs6140-machine-learning/Keras_projects/LSTM-RNN-Melody-Composer/models/lstm/../../data/testData/chords/7_testchord.mid', '/Users/arulselvanmadhavan/cs6140-machine-learning/Keras_projects/LSTM-RNN-Melody-Composer/models/lstm/../../data/testData/chords/8_testchord.mid'], ['/Users/arulselvanmadhavan/cs6140-machine-learning/Keras_projects/LSTM-RNN-Melody-Composer/models/lstm/compositions/generated_1.mid', '/Users/arulselvanmadhavan/cs6140-machine-learning/Keras_projects/LSTM-RNN-Melody-Composer/models/lstm/compositions/generated_2.mid', '/Users/arulselvanmadhavan/cs6140-machine-learning/Keras_projects/LSTM-RNN-Melody-Composer/models/lstm/compositions/generated_3.mid', '/Users/arulselvanmadhavan/cs6140-machine-learning/Keras_projects/LSTM-RNN-Melody-Composer/models/lstm/compositions/generated_4.mid', '/Users/arulselvanmadhavan/cs6140-machine-learning/Keras_projects/LSTM-RNN-Melody-Composer/models/lstm/compositions/generated_5.mid', '/Users/arulselvanmadhavan/cs6140-machine-learning/Keras_projects/LSTM-RNN-Melody-Composer/models/lstm/compositions/generated_6.mid', '/Users/arulselvanmadhavan/cs6140-machine-learning/Keras_projects/LSTM-RNN-Melody-Composer/models/lstm/compositions/generated_7.mid', '/Users/arulselvanmadhavan/cs6140-machine-learning/Keras_projects/LSTM-RNN-Melody-Composer/models/lstm/compositions/generated_8.mid'])\n"
     ]
    }
   ],
   "source": [
    "chord_files = glob.glob(\"%s*.mid\" %(chord_dir))\n",
    "composition_files = []\n",
    "for i in range(len(chord_files)):\n",
    "    composition_files.append(composition_dir+'generated_%d.mid' %(i+1))\n",
    "print(chord_files, composition_files)"
   ]
  },
  {
   "cell_type": "code",
   "execution_count": 76,
   "metadata": {
    "collapsed": true
   },
   "outputs": [],
   "source": [
    "def roll2midi_wrapper(save_dir, mel_roll, num_ticks, lowest_note, res_factor):\n",
    "    quarter_note_resolution = 1./(DEFAULT_TICKS_PER_BEAT / res_factor)\n",
    "    for roll_id in range(mel_roll.shape[0]):\n",
    "        roll = mel_roll[0]\n",
    "        max_pitches = np.argmax(roll, axis=1)\n",
    "        max_pitches[max_pitches != 0] += lowest_note\n",
    "        pitch_with_duration = [(key, len(list(group))) for key, group in groupby(max_pitches)]\n",
    "        s = stream.Stream()\n",
    "        for i in range(0, len(pitch_with_duration)):\n",
    "            pitch_val, dur_count = pitch_with_duration[i]\n",
    "            if(pitch_val == 0):\n",
    "                n = note.Rest()\n",
    "                n.duration.quarterLength = (quarter_note_resolution * dur_count)\n",
    "            else:\n",
    "                p = pitch.Pitch()\n",
    "                p.midi = pitch_val\n",
    "                n = note.Note(p.midi, quarterLength = (quarter_note_resolution * dur_count))\n",
    "            s.append(n)\n",
    "        score = stream.Stream()\n",
    "        part = stream.Part()\n",
    "        # part.clef = clef.BassClef()\n",
    "        # part.append(instrument.Harpsichord())\n",
    "        part.insert(s)\n",
    "        score.insert(part)\n",
    "        mf = midi.translate.streamToMidiFile(score)\n",
    "        mf.open(composition_files[roll_id], 'wb')\n",
    "        mf.write()\n",
    "        mf.close()"
   ]
  },
  {
   "cell_type": "code",
   "execution_count": 144,
   "metadata": {
    "collapsed": false
   },
   "outputs": [],
   "source": [
    "roll2midi_wrapper(composition_files, chord_roll[0,:,:] , 256, 48, 12)"
   ]
  },
  {
   "cell_type": "code",
   "execution_count": 59,
   "metadata": {
    "collapsed": false
   },
   "outputs": [
    {
     "data": {
      "text/plain": [
       "0.125"
      ]
     },
     "execution_count": 59,
     "metadata": {},
     "output_type": "execute_result"
    }
   ],
   "source": [
    "1./8"
   ]
  },
  {
   "cell_type": "code",
   "execution_count": 54,
   "metadata": {
    "collapsed": true
   },
   "outputs": [],
   "source": [
    "s = stream.Stream()\n",
    "for i in range(0, len(pitch_with_duration)):\n",
    "    pitch_val, dur_count = pitch_with_duration[i]\n",
    "    if(pitch_val == 0):\n",
    "        n = note.Rest()\n",
    "        n.duration.quarterLength = (0.125 * dur_count)\n",
    "    else:\n",
    "        p = pitch.Pitch()\n",
    "        p.midi = pitch_val\n",
    "        n = note.Note(p.midi, quarterLength = (0.125 * dur_count))\n",
    "    s.append(n)\n",
    "# print(s.pitches)\n",
    "# print(s.duration.quarterLength)"
   ]
  },
  {
   "cell_type": "code",
   "execution_count": 55,
   "metadata": {
    "collapsed": false
   },
   "outputs": [],
   "source": [
    "score = stream.Stream()\n",
    "part = stream.Part()\n",
    "# part.clef = clef.BassClef()\n",
    "# part.append(instrument.Harpsichord())\n",
    "part.insert(s)\n",
    "score.insert(part)"
   ]
  },
  {
   "cell_type": "code",
   "execution_count": 56,
   "metadata": {
    "collapsed": true
   },
   "outputs": [],
   "source": [
    "mf = midi.translate.streamToMidiFile(score)\n",
    "mf.open(os.getcwd() + '/../../data/testData/melody_composition/gen_001.mid', 'wb')\n",
    "mf.write()\n",
    "mf.close()"
   ]
  },
  {
   "cell_type": "code",
   "execution_count": null,
   "metadata": {
    "collapsed": false
   },
   "outputs": [],
   "source": [
    "path_to_file = os.getcwd()+\"/../../data/testData/melody_composition/001.mid\"\n",
    "num_ticks = 256\n",
    "lowest_melody_note = 67\n",
    "num_cols = 24\n",
    "res_factor = 12\n",
    "\n",
    "# def piano_roll_music21(path_to_file, num_ticks, lowest_melody_note, num_cols, res_factor):\n",
    "midi_stream = converter.parse(path_to_file)\n",
    "roll = np.zeros((num_ticks, num_cols))\n",
    "\n",
    "timesteps_so_far = 0\n",
    "for nr in midi_stream.elements[0].notesAndRests:\n",
    "    p = nr.pitch.midi  if isinstance(nr, note.Note) else 0\n",
    "    duration = float(nr.quarterLength)\n",
    "    col_idx = (p - lowest_melody_note) + 1 if p !=0 else p #Adding to distinguish the case where there is no note.\n",
    "    start = timesteps_so_far\n",
    "    timesteps_so_far += int(8 * duration)\n",
    "    end = timesteps_so_far\n",
    "    roll[start:end, col_idx] = 1.0\n",
    "    \n",
    "# for i in range(len(midi_stream.pitches)):\n",
    "#     p = midi_stream.pitches[i]\n",
    "#     col_idx = (p.midi - lowest_melody_note) + 1 #Adding to distinguish the case where there is no note.\n",
    "#     print(\"{}\\t{}\".format(p.midi, col_idx))\n",
    "# #     print(len(midi_stream.pitches))\n",
    "# #     print(midi_stream.quarterLength)"
   ]
  },
  {
   "cell_type": "code",
   "execution_count": null,
   "metadata": {
    "collapsed": true
   },
   "outputs": [],
   "source": []
  },
  {
   "cell_type": "code",
   "execution_count": null,
   "metadata": {
    "collapsed": true
   },
   "outputs": [],
   "source": []
  }
 ],
 "metadata": {
  "anaconda-cloud": {},
  "kernelspec": {
   "display_name": "Python [conda env:py27]",
   "language": "python",
   "name": "conda-env-py27-py"
  },
  "language_info": {
   "codemirror_mode": {
    "name": "ipython",
    "version": 2
   },
   "file_extension": ".py",
   "mimetype": "text/x-python",
   "name": "python",
   "nbconvert_exporter": "python",
   "pygments_lexer": "ipython2",
   "version": "2.7.12"
  }
 },
 "nbformat": 4,
 "nbformat_minor": 1
}
